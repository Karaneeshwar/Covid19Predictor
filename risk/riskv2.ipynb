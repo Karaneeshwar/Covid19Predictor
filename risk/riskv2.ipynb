{
 "cells": [
  {
   "cell_type": "code",
   "execution_count": 2,
   "id": "bd3c28b0",
   "metadata": {},
   "outputs": [],
   "source": [
    "import pandas as pd\n",
    "import numpy as np\n",
    "import matplotlib.pyplot as plt\n",
    "import seaborn as sns"
   ]
  },
  {
   "cell_type": "code",
   "execution_count": 16,
   "id": "785e990c",
   "metadata": {},
   "outputs": [
    {
     "name": "stdout",
     "output_type": "stream",
     "text": [
      "<class 'pandas.core.frame.DataFrame'>\n",
      "RangeIndex: 566602 entries, 0 to 566601\n",
      "Data columns (total 23 columns):\n",
      " #   Column               Non-Null Count   Dtype  \n",
      "---  ------               --------------   -----  \n",
      " 0   id                   566599 non-null  object \n",
      " 1   sex                  566602 non-null  int64  \n",
      " 2   patient_type         566602 non-null  int64  \n",
      " 3   entry_date           566602 non-null  object \n",
      " 4   date_symptoms        566602 non-null  object \n",
      " 5   date_died            566602 non-null  object \n",
      " 6   intubated            121789 non-null  float64\n",
      " 7   pneumonia            566591 non-null  float64\n",
      " 8   age                  566395 non-null  float64\n",
      " 9   pregnancy            277903 non-null  float64\n",
      " 10  diabetes             564621 non-null  float64\n",
      " 11  copd                 564853 non-null  float64\n",
      " 12  asthma               564850 non-null  float64\n",
      " 13  inmsupr              564622 non-null  float64\n",
      " 14  hypertension         564778 non-null  float64\n",
      " 15  other_disease        564004 non-null  float64\n",
      " 16  cardiovascular       564780 non-null  float64\n",
      " 17  obesity              564821 non-null  float64\n",
      " 18  renal_chronic        564810 non-null  float64\n",
      " 19  tobacco              564695 non-null  float64\n",
      " 20  contact_other_covid  391571 non-null  float64\n",
      " 21  covid_res            566602 non-null  int64  \n",
      " 22  icu                  121788 non-null  float64\n",
      "dtypes: float64(16), int64(3), object(4)\n",
      "memory usage: 99.4+ MB\n"
     ]
    }
   ],
   "source": [
    "df = pd.read_csv(r'dataset\\Covid Patient list- Population Data.csv', na_values=[97,98,99])\n",
    "df.info()"
   ]
  },
  {
   "cell_type": "code",
   "execution_count": 17,
   "id": "4fe481b9",
   "metadata": {},
   "outputs": [
    {
     "data": {
      "text/plain": [
       "date_died\n",
       "9999-99-99    530426\n",
       "08-06-2020       701\n",
       "16-06-2020       699\n",
       "10-06-2020       691\n",
       "12-06-2020       674\n",
       "               ...  \n",
       "25-02-2020         1\n",
       "21-02-2020         1\n",
       "13-02-2020         1\n",
       "13-01-2020         1\n",
       "12-03-2020         1\n",
       "Name: count, Length: 124, dtype: int64"
      ]
     },
     "execution_count": 17,
     "metadata": {},
     "output_type": "execute_result"
    }
   ],
   "source": [
    "df['date_died'].value_counts()"
   ]
  },
  {
   "cell_type": "code",
   "execution_count": 18,
   "id": "b72724a7",
   "metadata": {},
   "outputs": [
    {
     "data": {
      "text/plain": [
       "Index([     4,      5,     24,     36,     41,     45,     50,     67,     69,\n",
       "           72,\n",
       "       ...\n",
       "       566391, 566430, 566431, 566466, 566517, 566548, 566552, 566553, 566578,\n",
       "       566591],\n",
       "      dtype='int64', length=36176)"
      ]
     },
     "execution_count": 18,
     "metadata": {},
     "output_type": "execute_result"
    }
   ],
   "source": [
    "df[df['date_died']!='9999-99-99'].index"
   ]
  },
  {
   "cell_type": "code",
   "execution_count": 19,
   "id": "12ba8379",
   "metadata": {},
   "outputs": [
    {
     "name": "stdout",
     "output_type": "stream",
     "text": [
      "Removing data of dead patients\n",
      "Before dropping: (566602, 23)\n",
      "After dropping: (530426, 23)\n"
     ]
    }
   ],
   "source": [
    "print(\"Removing data of dead patients\")\n",
    "print(\"Before dropping:\", df.shape)\n",
    "df.drop(index=df[df['date_died']!='9999-99-99'].index, inplace=True)\n",
    "print(\"After dropping:\",df.shape)"
   ]
  },
  {
   "cell_type": "code",
   "execution_count": 20,
   "id": "ee771120",
   "metadata": {},
   "outputs": [
    {
     "name": "stdout",
     "output_type": "stream",
     "text": [
      "Removing dates and patient IDs\n",
      "Before: 23\n",
      "After: 19\n"
     ]
    }
   ],
   "source": [
    "print(\"Removing dates and patient IDs\")\n",
    "print(\"Before:\", len(df.columns))\n",
    "df.drop(columns=['id','entry_date', 'date_symptoms', 'date_died'], inplace=True)\n",
    "print(\"After:\", len(df.columns))"
   ]
  },
  {
   "cell_type": "code",
   "execution_count": 57,
   "id": "35ec7e53",
   "metadata": {},
   "outputs": [
    {
     "data": {
      "text/plain": [
       "Index(['sex', 'patient_type', 'intubated', 'pneumonia', 'age', 'pregnancy',\n",
       "       'diabetes', 'copd', 'asthma', 'inmsupr', 'hypertension',\n",
       "       'other_disease', 'cardiovascular', 'obesity', 'renal_chronic',\n",
       "       'tobacco', 'contact_other_covid', 'covid_res', 'icu'],\n",
       "      dtype='object')"
      ]
     },
     "execution_count": 57,
     "metadata": {},
     "output_type": "execute_result"
    }
   ],
   "source": [
    "df.columns"
   ]
  },
  {
   "cell_type": "code",
   "execution_count": 58,
   "id": "6fcc0112",
   "metadata": {},
   "outputs": [
    {
     "name": "stdout",
     "output_type": "stream",
     "text": [
      "(530426, 19)\n",
      "(53483, 19)\n"
     ]
    }
   ],
   "source": [
    "print(df.shape)\n",
    "ser = df.duplicated(subset=['sex', 'patient_type', 'intubated', 'pneumonia', 'age', 'pregnancy',\n",
    "       'diabetes', 'copd', 'asthma', 'inmsupr', 'hypertension',\n",
    "       'other_disease', 'cardiovascular', 'obesity', 'renal_chronic',\n",
    "       'tobacco', 'contact_other_covid', 'icu'])\n",
    "df.drop(index=df.loc[ser].index, inplace=True)\n",
    "print(df.shape)"
   ]
  },
  {
   "cell_type": "code",
   "execution_count": 59,
   "id": "09880ebe",
   "metadata": {},
   "outputs": [
    {
     "name": "stdout",
     "output_type": "stream",
     "text": [
      "(53483, 19)\n",
      "(53483, 19)\n"
     ]
    }
   ],
   "source": [
    "print(df.shape)\n",
    "df.drop_duplicates(inplace=True)\n",
    "print(df.shape)"
   ]
  },
  {
   "cell_type": "code",
   "execution_count": 60,
   "id": "c56a0de1",
   "metadata": {},
   "outputs": [
    {
     "name": "stdout",
     "output_type": "stream",
     "text": [
      "sex\n",
      "2    27175\n",
      "1    26308\n",
      "Name: count, dtype: int64\n",
      "patient_type\n",
      "2    27639\n",
      "1    25844\n",
      "Name: count, dtype: int64\n",
      "intubated\n",
      "2.0    24451\n",
      "1.0     3119\n",
      "Name: count, dtype: int64\n",
      "pneumonia\n",
      "2.0    33258\n",
      "1.0    20214\n",
      "Name: count, dtype: int64\n",
      "age\n",
      "51.0     1025\n",
      "60.0     1025\n",
      "50.0     1012\n",
      "56.0     1011\n",
      "52.0     1008\n",
      "         ... \n",
      "116.0       1\n",
      "115.0       1\n",
      "117.0       1\n",
      "107.0       1\n",
      "111.0       1\n",
      "Name: count, Length: 117, dtype: int64\n",
      "pregnancy\n",
      "2.0    24584\n",
      "1.0     1014\n",
      "Name: count, dtype: int64\n",
      "diabetes\n",
      "2.0    34091\n",
      "1.0    18222\n",
      "Name: count, dtype: int64\n",
      "copd\n",
      "2.0    46674\n",
      "1.0     5853\n",
      "Name: count, dtype: int64\n",
      "asthma\n",
      "2.0    46510\n",
      "1.0     6010\n",
      "Name: count, dtype: int64\n",
      "inmsupr\n",
      "2.0    46705\n",
      "1.0     5613\n",
      "Name: count, dtype: int64\n",
      "hypertension\n",
      "2.0    30105\n",
      "1.0    22339\n",
      "Name: count, dtype: int64\n",
      "other_disease\n",
      "2.0    44283\n",
      "1.0     7571\n",
      "Name: count, dtype: int64\n",
      "cardiovascular\n",
      "2.0    44908\n",
      "1.0     7562\n",
      "Name: count, dtype: int64\n",
      "obesity\n",
      "2.0    35203\n",
      "1.0    17303\n",
      "Name: count, dtype: int64\n",
      "renal_chronic\n",
      "2.0    46328\n",
      "1.0     6157\n",
      "Name: count, dtype: int64\n",
      "tobacco\n",
      "2.0    41596\n",
      "1.0    10793\n",
      "Name: count, dtype: int64\n",
      "contact_other_covid\n",
      "2.0    19037\n",
      "1.0    14476\n",
      "Name: count, dtype: int64\n",
      "covid_res\n",
      "1    29956\n",
      "2    19330\n",
      "3     4197\n",
      "Name: count, dtype: int64\n",
      "icu\n",
      "2.0    23300\n",
      "1.0     4269\n",
      "Name: count, dtype: int64\n"
     ]
    }
   ],
   "source": [
    "cols = list(df.columns)\n",
    "for i in cols:\n",
    "    print(df[i].value_counts())"
   ]
  },
  {
   "cell_type": "code",
   "execution_count": 61,
   "id": "5a0a9a6b",
   "metadata": {},
   "outputs": [
    {
     "name": "stdout",
     "output_type": "stream",
     "text": [
      "    sex  patient_type  intubated  ...  contact_other_covid  covid_res  icu\n",
      "0     2             1        NaN  ...                  2.0          1  NaN\n",
      "1     2             1        NaN  ...                  NaN          1  NaN\n",
      "2     1             2        2.0  ...                  NaN          1  2.0\n",
      "3     2             2        2.0  ...                  NaN          1  2.0\n",
      "6     2             2        2.0  ...                  NaN          1  2.0\n",
      "7     1             1        NaN  ...                  1.0          1  NaN\n",
      "8     1             1        NaN  ...                  NaN          1  NaN\n",
      "9     1             2        1.0  ...                  NaN          1  2.0\n",
      "10    1             2        2.0  ...                  NaN          1  2.0\n",
      "11    1             1        NaN  ...                  NaN          1  NaN\n",
      "\n",
      "[10 rows x 19 columns]\n",
      "   sex patient_type intubated  ... contact_other_covid  covid_res  icu\n",
      "0    0            1       NaN  ...                 0.0          1  NaN\n",
      "1    0            1       NaN  ...                 NaN          1  NaN\n",
      "2    1            0       0.0  ...                 NaN          1  0.0\n",
      "3    0            0       0.0  ...                 NaN          1  0.0\n",
      "6    0            0       0.0  ...                 NaN          1  0.0\n",
      "7    1            1       NaN  ...                 1.0          1  NaN\n",
      "8    1            1       NaN  ...                 NaN          1  NaN\n",
      "9    1            0       1.0  ...                 NaN          1  0.0\n",
      "10   1            0       0.0  ...                 NaN          1  0.0\n",
      "11   1            1       NaN  ...                 NaN          1  NaN\n",
      "\n",
      "[10 rows x 19 columns]\n"
     ]
    }
   ],
   "source": [
    "print(df.head(10))\n",
    "for i in ['sex', 'patient_type', 'intubated', 'pneumonia', 'pregnancy',\n",
    "       'diabetes', 'copd', 'asthma', 'inmsupr', 'hypertension',\n",
    "       'other_disease', 'cardiovascular', 'obesity', 'renal_chronic',\n",
    "       'tobacco', 'contact_other_covid', 'icu']:\n",
    "       df[i] = df[i].replace({2:0})\n",
    "       df[i] = pd.Categorical(df[i])\n",
    "df['covid_res'] = df['covid_res'].replace({3:2})\n",
    "print(df.head(10))"
   ]
  },
  {
   "cell_type": "code",
   "execution_count": 62,
   "id": "a3e4a341",
   "metadata": {},
   "outputs": [
    {
     "name": "stdout",
     "output_type": "stream",
     "text": [
      "<class 'pandas.core.frame.DataFrame'>\n",
      "Index: 53483 entries, 0 to 566601\n",
      "Data columns (total 19 columns):\n",
      " #   Column               Non-Null Count  Dtype   \n",
      "---  ------               --------------  -----   \n",
      " 0   sex                  53483 non-null  category\n",
      " 1   patient_type         53483 non-null  category\n",
      " 2   intubated            27570 non-null  category\n",
      " 3   pneumonia            53472 non-null  category\n",
      " 4   age                  53382 non-null  float64 \n",
      " 5   pregnancy            25598 non-null  category\n",
      " 6   diabetes             52313 non-null  category\n",
      " 7   copd                 52527 non-null  category\n",
      " 8   asthma               52520 non-null  category\n",
      " 9   inmsupr              52318 non-null  category\n",
      " 10  hypertension         52444 non-null  category\n",
      " 11  other_disease        51854 non-null  category\n",
      " 12  cardiovascular       52470 non-null  category\n",
      " 13  obesity              52506 non-null  category\n",
      " 14  renal_chronic        52485 non-null  category\n",
      " 15  tobacco              52389 non-null  category\n",
      " 16  contact_other_covid  33513 non-null  category\n",
      " 17  covid_res            53483 non-null  int64   \n",
      " 18  icu                  27569 non-null  category\n",
      "dtypes: category(17), float64(1), int64(1)\n",
      "memory usage: 2.1 MB\n"
     ]
    }
   ],
   "source": [
    "df.info()"
   ]
  },
  {
   "cell_type": "code",
   "execution_count": 63,
   "id": "38308a3e",
   "metadata": {},
   "outputs": [
    {
     "data": {
      "text/plain": [
       "sex\n",
       "1    6822\n",
       "0       0\n",
       "Name: count, dtype: int64"
      ]
     },
     "execution_count": 63,
     "metadata": {},
     "output_type": "execute_result"
    }
   ],
   "source": [
    "dft=df.dropna()\n",
    "dft['sex'].value_counts()"
   ]
  },
  {
   "cell_type": "code",
   "execution_count": 64,
   "id": "62243421",
   "metadata": {},
   "outputs": [],
   "source": [
    "from sklearn.model_selection import train_test_split\n",
    "dX = df.loc[:, ['sex', 'patient_type', 'intubated', 'pneumonia', 'pregnancy',\n",
    "       'diabetes', 'copd', 'asthma', 'inmsupr', 'hypertension',\n",
    "       'other_disease', 'cardiovascular', 'obesity', 'renal_chronic',\n",
    "       'tobacco', 'contact_other_covid', 'icu']]\n",
    "dy = df['covid_res']\n",
    "dxtr, dte, dytr,dyte = train_test_split(dX,dy,test_size=0.05, random_state=42)"
   ]
  },
  {
   "cell_type": "code",
   "execution_count": 65,
   "id": "5cdd42e5",
   "metadata": {},
   "outputs": [
    {
     "name": "stdout",
     "output_type": "stream",
     "text": [
      "1494 \t 1181\n",
      "0.6471028037383177\n",
      "              precision    recall  f1-score   support\n",
      "\n",
      "           1       0.67      0.73      0.70      1494\n",
      "           2       0.61      0.54      0.58      1181\n",
      "\n",
      "    accuracy                           0.65      2675\n",
      "   macro avg       0.64      0.64      0.64      2675\n",
      "weighted avg       0.64      0.65      0.64      2675\n",
      "\n",
      "[[1088  406]\n",
      " [ 538  643]]\n"
     ]
    }
   ],
   "source": [
    "from sklearn.ensemble import HistGradientBoostingClassifier\n",
    "from sklearn.metrics import classification_report, confusion_matrix,accuracy_score\n",
    "gbm = HistGradientBoostingClassifier(learning_rate=0.19)\n",
    "gbm.fit(dxtr,dytr)\n",
    "dyp = gbm.predict(dte)\n",
    "print(len(dyte[dyte==1]), '\\t', len(dyte[dyte==2]))\n",
    "print(accuracy_score(y_pred=dyp,y_true=dyte))\n",
    "print(classification_report(y_pred=dyp,y_true=dyte))\n",
    "print(confusion_matrix(y_pred=dyp,y_true=dyte))"
   ]
  },
  {
   "cell_type": "code",
   "execution_count": 66,
   "id": "7b7c05b4",
   "metadata": {},
   "outputs": [],
   "source": [
    "from sklearn.model_selection import train_test_split\n",
    "dXt = dft.loc[:, ['sex', 'patient_type', 'pneumonia','diabetes', 'copd', 'asthma', 'inmsupr', 'hypertension',\n",
    "       'other_disease', 'cardiovascular', 'obesity', 'renal_chronic','tobacco']]\n",
    "dyt = dft['covid_res']\n",
    "dtxtr, dtxte, dtytr,dtyte = train_test_split(dX,dy,test_size=0.05, random_state=42)"
   ]
  },
  {
   "cell_type": "code",
   "execution_count": 67,
   "id": "4beb7288",
   "metadata": {},
   "outputs": [
    {
     "name": "stdout",
     "output_type": "stream",
     "text": [
      "1494 \t 1181\n",
      "0.6471028037383177\n",
      "              precision    recall  f1-score   support\n",
      "\n",
      "           1       0.67      0.72      0.69      1494\n",
      "           2       0.61      0.56      0.58      1181\n",
      "\n",
      "    accuracy                           0.65      2675\n",
      "   macro avg       0.64      0.64      0.64      2675\n",
      "weighted avg       0.64      0.65      0.65      2675\n",
      "\n",
      "[[1071  423]\n",
      " [ 521  660]]\n"
     ]
    }
   ],
   "source": [
    "from sklearn.ensemble import HistGradientBoostingClassifier\n",
    "from sklearn.metrics import classification_report, confusion_matrix,accuracy_score\n",
    "gbm = HistGradientBoostingClassifier(learning_rate=0.12)\n",
    "gbm.fit(dtxtr,dtytr)\n",
    "dtyp = gbm.predict(dtxte)\n",
    "print(len(dtyte[dtyte==1]), '\\t', len(dtyte[dtyte==2]))\n",
    "print(accuracy_score(y_pred=dtyp,y_true=dtyte))\n",
    "print(classification_report(y_pred=dtyp,y_true=dtyte))\n",
    "print(confusion_matrix(y_pred=dtyp,y_true=dtyte))"
   ]
  },
  {
   "cell_type": "code",
   "execution_count": 68,
   "id": "90d41228",
   "metadata": {},
   "outputs": [
    {
     "name": "stdout",
     "output_type": "stream",
     "text": [
      "<class 'pandas.core.frame.DataFrame'>\n",
      "Index: 25844 entries, 0 to 566601\n",
      "Data columns (total 16 columns):\n",
      " #   Column               Non-Null Count  Dtype   \n",
      "---  ------               --------------  -----   \n",
      " 0   sex                  25844 non-null  category\n",
      " 1   pneumonia            25834 non-null  category\n",
      " 2   age                  25795 non-null  float64 \n",
      " 3   pregnancy            12987 non-null  category\n",
      " 4   diabetes             25084 non-null  category\n",
      " 5   copd                 25213 non-null  category\n",
      " 6   asthma               25214 non-null  category\n",
      " 7   inmsupr              25088 non-null  category\n",
      " 8   hypertension         25166 non-null  category\n",
      " 9   other_disease        24881 non-null  category\n",
      " 10  cardiovascular       25204 non-null  category\n",
      " 11  obesity              25226 non-null  category\n",
      " 12  renal_chronic        25197 non-null  category\n",
      " 13  tobacco              25125 non-null  category\n",
      " 14  contact_other_covid  17643 non-null  category\n",
      " 15  covid_res            25844 non-null  int64   \n",
      "dtypes: category(14), float64(1), int64(1)\n",
      "memory usage: 960.8 KB\n",
      "None\n",
      "covid_res\n",
      "1    14573\n",
      "2    11271\n",
      "Name: count, dtype: int64\n"
     ]
    }
   ],
   "source": [
    "op = pd.DataFrame(df.loc[df['patient_type']==1])\n",
    "op.drop(columns=['icu', 'intubated', 'patient_type'], inplace=True)\n",
    "print(op.info())\n",
    "print(op['covid_res'].value_counts())"
   ]
  },
  {
   "cell_type": "code",
   "execution_count": 69,
   "id": "95c35d31",
   "metadata": {},
   "outputs": [
    {
     "name": "stdout",
     "output_type": "stream",
     "text": [
      "<class 'pandas.core.frame.DataFrame'>\n",
      "Index: 27639 entries, 2 to 566593\n",
      "Data columns (total 18 columns):\n",
      " #   Column               Non-Null Count  Dtype   \n",
      "---  ------               --------------  -----   \n",
      " 0   sex                  27639 non-null  category\n",
      " 1   intubated            27570 non-null  category\n",
      " 2   pneumonia            27638 non-null  category\n",
      " 3   age                  27587 non-null  float64 \n",
      " 4   pregnancy            12611 non-null  category\n",
      " 5   diabetes             27229 non-null  category\n",
      " 6   copd                 27314 non-null  category\n",
      " 7   asthma               27306 non-null  category\n",
      " 8   inmsupr              27230 non-null  category\n",
      " 9   hypertension         27278 non-null  category\n",
      " 10  other_disease        26973 non-null  category\n",
      " 11  cardiovascular       27266 non-null  category\n",
      " 12  obesity              27280 non-null  category\n",
      " 13  renal_chronic        27288 non-null  category\n",
      " 14  tobacco              27264 non-null  category\n",
      " 15  contact_other_covid  15870 non-null  category\n",
      " 16  covid_res            27639 non-null  int64   \n",
      " 17  icu                  27569 non-null  category\n",
      "dtypes: category(16), float64(1), int64(1)\n",
      "memory usage: 1.1 MB\n",
      "None\n",
      "covid_res\n",
      "1    15383\n",
      "2    12256\n",
      "Name: count, dtype: int64\n",
      "icu\n",
      "0.0    23300\n",
      "1.0     4269\n",
      "Name: count, dtype: int64\n",
      "intubated\n",
      "0.0    24451\n",
      "1.0     3119\n",
      "Name: count, dtype: int64\n"
     ]
    }
   ],
   "source": [
    "hos = pd.DataFrame(df.loc[df['patient_type']==0])\n",
    "hos.drop(columns=['patient_type'], inplace=True)\n",
    "print(hos.info())\n",
    "print(hos['covid_res'].value_counts())\n",
    "print(hos['icu'].value_counts())\n",
    "print(hos['intubated'].value_counts())"
   ]
  },
  {
   "cell_type": "code",
   "execution_count": 70,
   "id": "b0d8cd4b",
   "metadata": {},
   "outputs": [
    {
     "name": "stdout",
     "output_type": "stream",
     "text": [
      "<class 'pandas.core.frame.DataFrame'>\n",
      "Index: 13573 entries, 7 to 566513\n",
      "Data columns (total 15 columns):\n",
      " #   Column               Non-Null Count  Dtype   \n",
      "---  ------               --------------  -----   \n",
      " 0   pneumonia            13568 non-null  category\n",
      " 1   age                  13541 non-null  float64 \n",
      " 2   pregnancy            12987 non-null  category\n",
      " 3   diabetes             13178 non-null  category\n",
      " 4   copd                 13246 non-null  category\n",
      " 5   asthma               13239 non-null  category\n",
      " 6   inmsupr              13172 non-null  category\n",
      " 7   hypertension         13220 non-null  category\n",
      " 8   other_disease        13060 non-null  category\n",
      " 9   cardiovascular       13229 non-null  category\n",
      " 10  obesity              13249 non-null  category\n",
      " 11  renal_chronic        13230 non-null  category\n",
      " 12  tobacco              13214 non-null  category\n",
      " 13  contact_other_covid  9265 non-null   category\n",
      " 14  covid_res            13573 non-null  int64   \n",
      "dtypes: category(13), float64(1), int64(1)\n",
      "memory usage: 492.0 KB\n"
     ]
    }
   ],
   "source": [
    "mop = pd.DataFrame(op.loc[op['sex']==0])\n",
    "fop = pd.DataFrame(op.loc[op['sex']==1])\n",
    "mop.drop(columns=['pregnancy','sex'], inplace=True)\n",
    "fop.drop(columns=['sex'], inplace=True)\n",
    "fop.info()"
   ]
  },
  {
   "cell_type": "code",
   "execution_count": 71,
   "id": "61533586",
   "metadata": {},
   "outputs": [
    {
     "data": {
      "text/plain": [
       "pregnancy\n",
       "0.0    12147\n",
       "1.0      464\n",
       "Name: count, dtype: int64"
      ]
     },
     "execution_count": 71,
     "metadata": {},
     "output_type": "execute_result"
    }
   ],
   "source": [
    "mhos = pd.DataFrame(hos.loc[hos['sex']==0.0])\n",
    "fhos = pd.DataFrame(hos.loc[hos['sex']==1.0])\n",
    "mhos.drop(columns=['pregnancy','sex'], inplace=True)\n",
    "fhos.drop(columns=['sex'], inplace=True)\n",
    "fhos['pregnancy'].value_counts()"
   ]
  },
  {
   "cell_type": "code",
   "execution_count": 72,
   "id": "89e96474",
   "metadata": {},
   "outputs": [
    {
     "name": "stdout",
     "output_type": "stream",
     "text": [
      "(12271, 14)\n",
      "(13573, 15)\n",
      "(14904, 16)\n",
      "(12735, 17)\n"
     ]
    }
   ],
   "source": [
    "print(mop.shape)\n",
    "#mop.dropna(inplace=True)\n",
    "#print(mop.shape)\n",
    "print(fop.shape)\n",
    "#fop.dropna(inplace=True)\n",
    "#print(fop.shape)\n",
    "print(mhos.shape)\n",
    "#mhos.dropna(inplace=True)\n",
    "#print(mhos.shape)\n",
    "print(fhos.shape)\n",
    "#fhos.dropna(inplace=True)\n",
    "#print(fhos.shape)"
   ]
  },
  {
   "cell_type": "code",
   "execution_count": 73,
   "id": "db795fae",
   "metadata": {},
   "outputs": [
    {
     "name": "stdout",
     "output_type": "stream",
     "text": [
      "<class 'pandas.core.frame.DataFrame'>\n",
      "Index: 12735 entries, 2 to 566593\n",
      "Data columns (total 17 columns):\n",
      " #   Column               Non-Null Count  Dtype   \n",
      "---  ------               --------------  -----   \n",
      " 0   intubated            12706 non-null  category\n",
      " 1   pneumonia            12735 non-null  category\n",
      " 2   age                  12709 non-null  float64 \n",
      " 3   pregnancy            12611 non-null  category\n",
      " 4   diabetes             12589 non-null  category\n",
      " 5   copd                 12627 non-null  category\n",
      " 6   asthma               12622 non-null  category\n",
      " 7   inmsupr              12593 non-null  category\n",
      " 8   hypertension         12618 non-null  category\n",
      " 9   other_disease        12486 non-null  category\n",
      " 10  cardiovascular       12607 non-null  category\n",
      " 11  obesity              12606 non-null  category\n",
      " 12  renal_chronic        12620 non-null  category\n",
      " 13  tobacco              12598 non-null  category\n",
      " 14  contact_other_covid  7203 non-null   category\n",
      " 15  covid_res            12735 non-null  int64   \n",
      " 16  icu                  12705 non-null  category\n",
      "dtypes: category(15), float64(1), int64(1)\n",
      "memory usage: 486.8 KB\n"
     ]
    }
   ],
   "source": [
    "fhos.info()"
   ]
  },
  {
   "cell_type": "code",
   "execution_count": 74,
   "id": "1a54a887",
   "metadata": {},
   "outputs": [
    {
     "name": "stdout",
     "output_type": "stream",
     "text": [
      "covid_res\n",
      "1    7131\n",
      "2    5140\n",
      "Name: count, dtype: int64\n",
      "covid_res\n",
      "1    7442\n",
      "2    6131\n",
      "Name: count, dtype: int64\n",
      "covid_res\n",
      "1    6823\n",
      "2    5912\n",
      "Name: count, dtype: int64\n",
      "covid_res\n",
      "1    8560\n",
      "2    6344\n",
      "Name: count, dtype: int64\n"
     ]
    }
   ],
   "source": [
    "print(mop['covid_res'].value_counts())\n",
    "print(fop['covid_res'].value_counts())\n",
    "print(fhos['covid_res'].value_counts())\n",
    "print(mhos['covid_res'].value_counts())"
   ]
  },
  {
   "cell_type": "code",
   "execution_count": 75,
   "id": "afdf7f9f",
   "metadata": {},
   "outputs": [
    {
     "name": "stdout",
     "output_type": "stream",
     "text": [
      "<class 'pandas.core.frame.DataFrame'>\n",
      "Index: 12271 entries, 0 to 566601\n",
      "Data columns (total 13 columns):\n",
      " #   Column               Non-Null Count  Dtype   \n",
      "---  ------               --------------  -----   \n",
      " 0   pneumonia            12266 non-null  category\n",
      " 1   age                  12254 non-null  float64 \n",
      " 2   diabetes             11906 non-null  category\n",
      " 3   copd                 11967 non-null  category\n",
      " 4   asthma               11975 non-null  category\n",
      " 5   inmsupr              11916 non-null  category\n",
      " 6   hypertension         11946 non-null  category\n",
      " 7   other_disease        11821 non-null  category\n",
      " 8   cardiovascular       11975 non-null  category\n",
      " 9   obesity              11977 non-null  category\n",
      " 10  renal_chronic        11967 non-null  category\n",
      " 11  tobacco              11911 non-null  category\n",
      " 12  contact_other_covid  8378 non-null   category\n",
      "dtypes: category(12), float64(1)\n",
      "memory usage: 337.0 KB\n"
     ]
    }
   ],
   "source": [
    "X = mop.loc[:, ['pneumonia', 'age', 'diabetes', 'copd', 'asthma', 'inmsupr', 'hypertension',\n",
    "       'other_disease', 'cardiovascular', 'obesity', 'renal_chronic',\n",
    "       'tobacco', 'contact_other_covid']]\n",
    "X.info()"
   ]
  },
  {
   "cell_type": "code",
   "execution_count": 76,
   "id": "1cb7510a",
   "metadata": {},
   "outputs": [
    {
     "ename": "ValueError",
     "evalue": "Input X contains NaN.\nPCA does not accept missing values encoded as NaN natively. For supervised learning, you might want to consider sklearn.ensemble.HistGradientBoostingClassifier and Regressor which accept missing values encoded as NaNs natively. Alternatively, it is possible to preprocess the data, for instance by using an imputer transformer in a pipeline or drop samples with missing values. See https://scikit-learn.org/stable/modules/impute.html You can find a list of all estimators that handle NaN values at the following page: https://scikit-learn.org/stable/modules/impute.html#estimators-that-handle-nan-values",
     "output_type": "error",
     "traceback": [
      "\u001b[31m---------------------------------------------------------------------------\u001b[39m",
      "\u001b[31mValueError\u001b[39m                                Traceback (most recent call last)",
      "\u001b[36mCell\u001b[39m\u001b[36m \u001b[39m\u001b[32mIn[76]\u001b[39m\u001b[32m, line 3\u001b[39m\n\u001b[32m      1\u001b[39m \u001b[38;5;28;01mfrom\u001b[39;00m\u001b[38;5;250m \u001b[39m\u001b[34;01msklearn\u001b[39;00m\u001b[34;01m.\u001b[39;00m\u001b[34;01mdecomposition\u001b[39;00m\u001b[38;5;250m \u001b[39m\u001b[38;5;28;01mimport\u001b[39;00m PCA\n\u001b[32m      2\u001b[39m pca1 = PCA(\u001b[32m2\u001b[39m)\n\u001b[32m----> \u001b[39m\u001b[32m3\u001b[39m pcaX = \u001b[43mpca1\u001b[49m\u001b[43m.\u001b[49m\u001b[43mfit_transform\u001b[49m\u001b[43m(\u001b[49m\u001b[43mX\u001b[49m\u001b[43m)\u001b[49m\n",
      "\u001b[36mFile \u001b[39m\u001b[32mf:\\Sem 6\\DSA\\Lab\\Covid19Predictor\\.venv\\Lib\\site-packages\\sklearn\\utils\\_set_output.py:319\u001b[39m, in \u001b[36m_wrap_method_output.<locals>.wrapped\u001b[39m\u001b[34m(self, X, *args, **kwargs)\u001b[39m\n\u001b[32m    317\u001b[39m \u001b[38;5;129m@wraps\u001b[39m(f)\n\u001b[32m    318\u001b[39m \u001b[38;5;28;01mdef\u001b[39;00m\u001b[38;5;250m \u001b[39m\u001b[34mwrapped\u001b[39m(\u001b[38;5;28mself\u001b[39m, X, *args, **kwargs):\n\u001b[32m--> \u001b[39m\u001b[32m319\u001b[39m     data_to_wrap = \u001b[43mf\u001b[49m\u001b[43m(\u001b[49m\u001b[38;5;28;43mself\u001b[39;49m\u001b[43m,\u001b[49m\u001b[43m \u001b[49m\u001b[43mX\u001b[49m\u001b[43m,\u001b[49m\u001b[43m \u001b[49m\u001b[43m*\u001b[49m\u001b[43margs\u001b[49m\u001b[43m,\u001b[49m\u001b[43m \u001b[49m\u001b[43m*\u001b[49m\u001b[43m*\u001b[49m\u001b[43mkwargs\u001b[49m\u001b[43m)\u001b[49m\n\u001b[32m    320\u001b[39m     \u001b[38;5;28;01mif\u001b[39;00m \u001b[38;5;28misinstance\u001b[39m(data_to_wrap, \u001b[38;5;28mtuple\u001b[39m):\n\u001b[32m    321\u001b[39m         \u001b[38;5;66;03m# only wrap the first output for cross decomposition\u001b[39;00m\n\u001b[32m    322\u001b[39m         return_tuple = (\n\u001b[32m    323\u001b[39m             _wrap_data_with_container(method, data_to_wrap[\u001b[32m0\u001b[39m], X, \u001b[38;5;28mself\u001b[39m),\n\u001b[32m    324\u001b[39m             *data_to_wrap[\u001b[32m1\u001b[39m:],\n\u001b[32m    325\u001b[39m         )\n",
      "\u001b[36mFile \u001b[39m\u001b[32mf:\\Sem 6\\DSA\\Lab\\Covid19Predictor\\.venv\\Lib\\site-packages\\sklearn\\base.py:1389\u001b[39m, in \u001b[36m_fit_context.<locals>.decorator.<locals>.wrapper\u001b[39m\u001b[34m(estimator, *args, **kwargs)\u001b[39m\n\u001b[32m   1382\u001b[39m     estimator._validate_params()\n\u001b[32m   1384\u001b[39m \u001b[38;5;28;01mwith\u001b[39;00m config_context(\n\u001b[32m   1385\u001b[39m     skip_parameter_validation=(\n\u001b[32m   1386\u001b[39m         prefer_skip_nested_validation \u001b[38;5;129;01mor\u001b[39;00m global_skip_validation\n\u001b[32m   1387\u001b[39m     )\n\u001b[32m   1388\u001b[39m ):\n\u001b[32m-> \u001b[39m\u001b[32m1389\u001b[39m     \u001b[38;5;28;01mreturn\u001b[39;00m \u001b[43mfit_method\u001b[49m\u001b[43m(\u001b[49m\u001b[43mestimator\u001b[49m\u001b[43m,\u001b[49m\u001b[43m \u001b[49m\u001b[43m*\u001b[49m\u001b[43margs\u001b[49m\u001b[43m,\u001b[49m\u001b[43m \u001b[49m\u001b[43m*\u001b[49m\u001b[43m*\u001b[49m\u001b[43mkwargs\u001b[49m\u001b[43m)\u001b[49m\n",
      "\u001b[36mFile \u001b[39m\u001b[32mf:\\Sem 6\\DSA\\Lab\\Covid19Predictor\\.venv\\Lib\\site-packages\\sklearn\\decomposition\\_pca.py:468\u001b[39m, in \u001b[36mPCA.fit_transform\u001b[39m\u001b[34m(self, X, y)\u001b[39m\n\u001b[32m    445\u001b[39m \u001b[38;5;129m@_fit_context\u001b[39m(prefer_skip_nested_validation=\u001b[38;5;28;01mTrue\u001b[39;00m)\n\u001b[32m    446\u001b[39m \u001b[38;5;28;01mdef\u001b[39;00m\u001b[38;5;250m \u001b[39m\u001b[34mfit_transform\u001b[39m(\u001b[38;5;28mself\u001b[39m, X, y=\u001b[38;5;28;01mNone\u001b[39;00m):\n\u001b[32m    447\u001b[39m \u001b[38;5;250m    \u001b[39m\u001b[33;03m\"\"\"Fit the model with X and apply the dimensionality reduction on X.\u001b[39;00m\n\u001b[32m    448\u001b[39m \n\u001b[32m    449\u001b[39m \u001b[33;03m    Parameters\u001b[39;00m\n\u001b[32m   (...)\u001b[39m\u001b[32m    466\u001b[39m \u001b[33;03m    C-ordered array, use 'np.ascontiguousarray'.\u001b[39;00m\n\u001b[32m    467\u001b[39m \u001b[33;03m    \"\"\"\u001b[39;00m\n\u001b[32m--> \u001b[39m\u001b[32m468\u001b[39m     U, S, _, X, x_is_centered, xp = \u001b[38;5;28;43mself\u001b[39;49m\u001b[43m.\u001b[49m\u001b[43m_fit\u001b[49m\u001b[43m(\u001b[49m\u001b[43mX\u001b[49m\u001b[43m)\u001b[49m\n\u001b[32m    469\u001b[39m     \u001b[38;5;28;01mif\u001b[39;00m U \u001b[38;5;129;01mis\u001b[39;00m \u001b[38;5;129;01mnot\u001b[39;00m \u001b[38;5;28;01mNone\u001b[39;00m:\n\u001b[32m    470\u001b[39m         U = U[:, : \u001b[38;5;28mself\u001b[39m.n_components_]\n",
      "\u001b[36mFile \u001b[39m\u001b[32mf:\\Sem 6\\DSA\\Lab\\Covid19Predictor\\.venv\\Lib\\site-packages\\sklearn\\decomposition\\_pca.py:505\u001b[39m, in \u001b[36mPCA._fit\u001b[39m\u001b[34m(self, X)\u001b[39m\n\u001b[32m    495\u001b[39m     \u001b[38;5;28;01mraise\u001b[39;00m \u001b[38;5;167;01mValueError\u001b[39;00m(\n\u001b[32m    496\u001b[39m         \u001b[33m\"\u001b[39m\u001b[33mPCA with svd_solver=\u001b[39m\u001b[33m'\u001b[39m\u001b[33marpack\u001b[39m\u001b[33m'\u001b[39m\u001b[33m is not supported for Array API inputs.\u001b[39m\u001b[33m\"\u001b[39m\n\u001b[32m    497\u001b[39m     )\n\u001b[32m    499\u001b[39m \u001b[38;5;66;03m# Validate the data, without ever forcing a copy as any solver that\u001b[39;00m\n\u001b[32m    500\u001b[39m \u001b[38;5;66;03m# supports sparse input data and the `covariance_eigh` solver are\u001b[39;00m\n\u001b[32m    501\u001b[39m \u001b[38;5;66;03m# written in a way to avoid the need for any inplace modification of\u001b[39;00m\n\u001b[32m    502\u001b[39m \u001b[38;5;66;03m# the input data contrary to the other solvers.\u001b[39;00m\n\u001b[32m    503\u001b[39m \u001b[38;5;66;03m# The copy will happen\u001b[39;00m\n\u001b[32m    504\u001b[39m \u001b[38;5;66;03m# later, only if needed, once the solver negotiation below is done.\u001b[39;00m\n\u001b[32m--> \u001b[39m\u001b[32m505\u001b[39m X = \u001b[43mvalidate_data\u001b[49m\u001b[43m(\u001b[49m\n\u001b[32m    506\u001b[39m \u001b[43m    \u001b[49m\u001b[38;5;28;43mself\u001b[39;49m\u001b[43m,\u001b[49m\n\u001b[32m    507\u001b[39m \u001b[43m    \u001b[49m\u001b[43mX\u001b[49m\u001b[43m,\u001b[49m\n\u001b[32m    508\u001b[39m \u001b[43m    \u001b[49m\u001b[43mdtype\u001b[49m\u001b[43m=\u001b[49m\u001b[43m[\u001b[49m\u001b[43mxp\u001b[49m\u001b[43m.\u001b[49m\u001b[43mfloat64\u001b[49m\u001b[43m,\u001b[49m\u001b[43m \u001b[49m\u001b[43mxp\u001b[49m\u001b[43m.\u001b[49m\u001b[43mfloat32\u001b[49m\u001b[43m]\u001b[49m\u001b[43m,\u001b[49m\n\u001b[32m    509\u001b[39m \u001b[43m    \u001b[49m\u001b[43mforce_writeable\u001b[49m\u001b[43m=\u001b[49m\u001b[38;5;28;43;01mTrue\u001b[39;49;00m\u001b[43m,\u001b[49m\n\u001b[32m    510\u001b[39m \u001b[43m    \u001b[49m\u001b[43maccept_sparse\u001b[49m\u001b[43m=\u001b[49m\u001b[43m(\u001b[49m\u001b[33;43m\"\u001b[39;49m\u001b[33;43mcsr\u001b[39;49m\u001b[33;43m\"\u001b[39;49m\u001b[43m,\u001b[49m\u001b[43m \u001b[49m\u001b[33;43m\"\u001b[39;49m\u001b[33;43mcsc\u001b[39;49m\u001b[33;43m\"\u001b[39;49m\u001b[43m)\u001b[49m\u001b[43m,\u001b[49m\n\u001b[32m    511\u001b[39m \u001b[43m    \u001b[49m\u001b[43mensure_2d\u001b[49m\u001b[43m=\u001b[49m\u001b[38;5;28;43;01mTrue\u001b[39;49;00m\u001b[43m,\u001b[49m\n\u001b[32m    512\u001b[39m \u001b[43m    \u001b[49m\u001b[43mcopy\u001b[49m\u001b[43m=\u001b[49m\u001b[38;5;28;43;01mFalse\u001b[39;49;00m\u001b[43m,\u001b[49m\n\u001b[32m    513\u001b[39m \u001b[43m\u001b[49m\u001b[43m)\u001b[49m\n\u001b[32m    514\u001b[39m \u001b[38;5;28mself\u001b[39m._fit_svd_solver = \u001b[38;5;28mself\u001b[39m.svd_solver\n\u001b[32m    515\u001b[39m \u001b[38;5;28;01mif\u001b[39;00m \u001b[38;5;28mself\u001b[39m._fit_svd_solver == \u001b[33m\"\u001b[39m\u001b[33mauto\u001b[39m\u001b[33m\"\u001b[39m \u001b[38;5;129;01mand\u001b[39;00m issparse(X):\n",
      "\u001b[36mFile \u001b[39m\u001b[32mf:\\Sem 6\\DSA\\Lab\\Covid19Predictor\\.venv\\Lib\\site-packages\\sklearn\\utils\\validation.py:2944\u001b[39m, in \u001b[36mvalidate_data\u001b[39m\u001b[34m(_estimator, X, y, reset, validate_separately, skip_check_array, **check_params)\u001b[39m\n\u001b[32m   2942\u001b[39m         out = X, y\n\u001b[32m   2943\u001b[39m \u001b[38;5;28;01melif\u001b[39;00m \u001b[38;5;129;01mnot\u001b[39;00m no_val_X \u001b[38;5;129;01mand\u001b[39;00m no_val_y:\n\u001b[32m-> \u001b[39m\u001b[32m2944\u001b[39m     out = \u001b[43mcheck_array\u001b[49m\u001b[43m(\u001b[49m\u001b[43mX\u001b[49m\u001b[43m,\u001b[49m\u001b[43m \u001b[49m\u001b[43minput_name\u001b[49m\u001b[43m=\u001b[49m\u001b[33;43m\"\u001b[39;49m\u001b[33;43mX\u001b[39;49m\u001b[33;43m\"\u001b[39;49m\u001b[43m,\u001b[49m\u001b[43m \u001b[49m\u001b[43m*\u001b[49m\u001b[43m*\u001b[49m\u001b[43mcheck_params\u001b[49m\u001b[43m)\u001b[49m\n\u001b[32m   2945\u001b[39m \u001b[38;5;28;01melif\u001b[39;00m no_val_X \u001b[38;5;129;01mand\u001b[39;00m \u001b[38;5;129;01mnot\u001b[39;00m no_val_y:\n\u001b[32m   2946\u001b[39m     out = _check_y(y, **check_params)\n",
      "\u001b[36mFile \u001b[39m\u001b[32mf:\\Sem 6\\DSA\\Lab\\Covid19Predictor\\.venv\\Lib\\site-packages\\sklearn\\utils\\validation.py:1107\u001b[39m, in \u001b[36mcheck_array\u001b[39m\u001b[34m(array, accept_sparse, accept_large_sparse, dtype, order, copy, force_writeable, force_all_finite, ensure_all_finite, ensure_non_negative, ensure_2d, allow_nd, ensure_min_samples, ensure_min_features, estimator, input_name)\u001b[39m\n\u001b[32m   1101\u001b[39m     \u001b[38;5;28;01mraise\u001b[39;00m \u001b[38;5;167;01mValueError\u001b[39;00m(\n\u001b[32m   1102\u001b[39m         \u001b[33m\"\u001b[39m\u001b[33mFound array with dim \u001b[39m\u001b[38;5;132;01m%d\u001b[39;00m\u001b[33m. \u001b[39m\u001b[38;5;132;01m%s\u001b[39;00m\u001b[33m expected <= 2.\u001b[39m\u001b[33m\"\u001b[39m\n\u001b[32m   1103\u001b[39m         % (array.ndim, estimator_name)\n\u001b[32m   1104\u001b[39m     )\n\u001b[32m   1106\u001b[39m \u001b[38;5;28;01mif\u001b[39;00m ensure_all_finite:\n\u001b[32m-> \u001b[39m\u001b[32m1107\u001b[39m     \u001b[43m_assert_all_finite\u001b[49m\u001b[43m(\u001b[49m\n\u001b[32m   1108\u001b[39m \u001b[43m        \u001b[49m\u001b[43marray\u001b[49m\u001b[43m,\u001b[49m\n\u001b[32m   1109\u001b[39m \u001b[43m        \u001b[49m\u001b[43minput_name\u001b[49m\u001b[43m=\u001b[49m\u001b[43minput_name\u001b[49m\u001b[43m,\u001b[49m\n\u001b[32m   1110\u001b[39m \u001b[43m        \u001b[49m\u001b[43mestimator_name\u001b[49m\u001b[43m=\u001b[49m\u001b[43mestimator_name\u001b[49m\u001b[43m,\u001b[49m\n\u001b[32m   1111\u001b[39m \u001b[43m        \u001b[49m\u001b[43mallow_nan\u001b[49m\u001b[43m=\u001b[49m\u001b[43mensure_all_finite\u001b[49m\u001b[43m \u001b[49m\u001b[43m==\u001b[49m\u001b[43m \u001b[49m\u001b[33;43m\"\u001b[39;49m\u001b[33;43mallow-nan\u001b[39;49m\u001b[33;43m\"\u001b[39;49m\u001b[43m,\u001b[49m\n\u001b[32m   1112\u001b[39m \u001b[43m    \u001b[49m\u001b[43m)\u001b[49m\n\u001b[32m   1114\u001b[39m \u001b[38;5;28;01mif\u001b[39;00m copy:\n\u001b[32m   1115\u001b[39m     \u001b[38;5;28;01mif\u001b[39;00m _is_numpy_namespace(xp):\n\u001b[32m   1116\u001b[39m         \u001b[38;5;66;03m# only make a copy if `array` and `array_orig` may share memory`\u001b[39;00m\n",
      "\u001b[36mFile \u001b[39m\u001b[32mf:\\Sem 6\\DSA\\Lab\\Covid19Predictor\\.venv\\Lib\\site-packages\\sklearn\\utils\\validation.py:120\u001b[39m, in \u001b[36m_assert_all_finite\u001b[39m\u001b[34m(X, allow_nan, msg_dtype, estimator_name, input_name)\u001b[39m\n\u001b[32m    117\u001b[39m \u001b[38;5;28;01mif\u001b[39;00m first_pass_isfinite:\n\u001b[32m    118\u001b[39m     \u001b[38;5;28;01mreturn\u001b[39;00m\n\u001b[32m--> \u001b[39m\u001b[32m120\u001b[39m \u001b[43m_assert_all_finite_element_wise\u001b[49m\u001b[43m(\u001b[49m\n\u001b[32m    121\u001b[39m \u001b[43m    \u001b[49m\u001b[43mX\u001b[49m\u001b[43m,\u001b[49m\n\u001b[32m    122\u001b[39m \u001b[43m    \u001b[49m\u001b[43mxp\u001b[49m\u001b[43m=\u001b[49m\u001b[43mxp\u001b[49m\u001b[43m,\u001b[49m\n\u001b[32m    123\u001b[39m \u001b[43m    \u001b[49m\u001b[43mallow_nan\u001b[49m\u001b[43m=\u001b[49m\u001b[43mallow_nan\u001b[49m\u001b[43m,\u001b[49m\n\u001b[32m    124\u001b[39m \u001b[43m    \u001b[49m\u001b[43mmsg_dtype\u001b[49m\u001b[43m=\u001b[49m\u001b[43mmsg_dtype\u001b[49m\u001b[43m,\u001b[49m\n\u001b[32m    125\u001b[39m \u001b[43m    \u001b[49m\u001b[43mestimator_name\u001b[49m\u001b[43m=\u001b[49m\u001b[43mestimator_name\u001b[49m\u001b[43m,\u001b[49m\n\u001b[32m    126\u001b[39m \u001b[43m    \u001b[49m\u001b[43minput_name\u001b[49m\u001b[43m=\u001b[49m\u001b[43minput_name\u001b[49m\u001b[43m,\u001b[49m\n\u001b[32m    127\u001b[39m \u001b[43m\u001b[49m\u001b[43m)\u001b[49m\n",
      "\u001b[36mFile \u001b[39m\u001b[32mf:\\Sem 6\\DSA\\Lab\\Covid19Predictor\\.venv\\Lib\\site-packages\\sklearn\\utils\\validation.py:169\u001b[39m, in \u001b[36m_assert_all_finite_element_wise\u001b[39m\u001b[34m(X, xp, allow_nan, msg_dtype, estimator_name, input_name)\u001b[39m\n\u001b[32m    152\u001b[39m \u001b[38;5;28;01mif\u001b[39;00m estimator_name \u001b[38;5;129;01mand\u001b[39;00m input_name == \u001b[33m\"\u001b[39m\u001b[33mX\u001b[39m\u001b[33m\"\u001b[39m \u001b[38;5;129;01mand\u001b[39;00m has_nan_error:\n\u001b[32m    153\u001b[39m     \u001b[38;5;66;03m# Improve the error message on how to handle missing values in\u001b[39;00m\n\u001b[32m    154\u001b[39m     \u001b[38;5;66;03m# scikit-learn.\u001b[39;00m\n\u001b[32m    155\u001b[39m     msg_err += (\n\u001b[32m    156\u001b[39m         \u001b[33mf\u001b[39m\u001b[33m\"\u001b[39m\u001b[38;5;130;01m\\n\u001b[39;00m\u001b[38;5;132;01m{\u001b[39;00mestimator_name\u001b[38;5;132;01m}\u001b[39;00m\u001b[33m does not accept missing values\u001b[39m\u001b[33m\"\u001b[39m\n\u001b[32m    157\u001b[39m         \u001b[33m\"\u001b[39m\u001b[33m encoded as NaN natively. For supervised learning, you might want\u001b[39m\u001b[33m\"\u001b[39m\n\u001b[32m   (...)\u001b[39m\u001b[32m    167\u001b[39m         \u001b[33m\"\u001b[39m\u001b[33m#estimators-that-handle-nan-values\u001b[39m\u001b[33m\"\u001b[39m\n\u001b[32m    168\u001b[39m     )\n\u001b[32m--> \u001b[39m\u001b[32m169\u001b[39m \u001b[38;5;28;01mraise\u001b[39;00m \u001b[38;5;167;01mValueError\u001b[39;00m(msg_err)\n",
      "\u001b[31mValueError\u001b[39m: Input X contains NaN.\nPCA does not accept missing values encoded as NaN natively. For supervised learning, you might want to consider sklearn.ensemble.HistGradientBoostingClassifier and Regressor which accept missing values encoded as NaNs natively. Alternatively, it is possible to preprocess the data, for instance by using an imputer transformer in a pipeline or drop samples with missing values. See https://scikit-learn.org/stable/modules/impute.html You can find a list of all estimators that handle NaN values at the following page: https://scikit-learn.org/stable/modules/impute.html#estimators-that-handle-nan-values"
     ]
    }
   ],
   "source": [
    "from sklearn.decomposition import PCA\n",
    "pca1 = PCA(2)\n",
    "pcaX = pca1.fit_transform(X)"
   ]
  },
  {
   "cell_type": "code",
   "execution_count": null,
   "id": "0175b7f7",
   "metadata": {},
   "outputs": [
    {
     "name": "stdout",
     "output_type": "stream",
     "text": [
      "1 . pneumonia\n",
      "2 . age\n",
      "3 . diabetes\n",
      "4 . copd\n",
      "5 . asthma\n",
      "6 . inmsupr\n",
      "7 . hypertension\n",
      "8 . other_disease\n",
      "9 . cardiovascular\n",
      "10 . obesity\n",
      "11 . renal_chronic\n",
      "12 . tobacco\n",
      "13 . contact_other_covid\n"
     ]
    },
    {
     "data": {
      "image/png": "[encoded data removed]",
      "text/plain": [
       "<Figure size 600x600 with 1 Axes>"
      ]
     },
     "metadata": {},
     "output_type": "display_data"
    }
   ],
   "source": [
    "import pandas as pd\n",
    "import matplotlib.pyplot as plt\n",
    "\n",
    "def plot_pie(df: pd.DataFrame, column: str, title: str = None, figsize=(6,6)):\n",
    "    \"\"\"\n",
    "    Plots a pie chart of the value counts of a specified DataFrame column.\n",
    "    \n",
    "    Parameters\n",
    "    ----------\n",
    "    df : pd.DataFrame\n",
    "        The DataFrame containing the data.\n",
    "    column : str\n",
    "        The name of the column to plot.\n",
    "    title : str, optional\n",
    "        Title for the chart; if None, uses the column name.\n",
    "    figsize : tuple, optional\n",
    "        Figure size passed to matplotlib (width, height).\n",
    "    \"\"\"\n",
    "    \n",
    "    if column not in df.columns:\n",
    "        raise ValueError(f\"Column '{column}' not found in DataFrame.\")\n",
    "    \n",
    "    \n",
    "    counts = df[column].value_counts(dropna=False)\n",
    "    \n",
    "    \n",
    "    fig, ax = plt.subplots(figsize=figsize)\n",
    "    counts.plot.pie(\n",
    "        ax=ax,\n",
    "        autopct='%1.1f%%',    \n",
    "        startangle=90,        \n",
    "        counterclock=False,   \n",
    "        wedgeprops={'edgecolor': 'white'}\n",
    "    )\n",
    "    \n",
    "    ax.set_ylabel('')  \n",
    "    ax.set_title(title or f\"Distribution of '{column}'\")\n",
    "    plt.tight_layout()\n",
    "    plt.show()\n",
    "X = pd.DataFrame(X, columns=['pneumonia', 'age',\n",
    "       'diabetes', 'copd', 'asthma', 'inmsupr', 'hypertension',\n",
    "       'other_disease', 'cardiovascular', 'obesity', 'renal_chronic',\n",
    "       'tobacco', 'contact_other_covid'])\n",
    "cols = list(X.columns)\n",
    "for idx, col in enumerate(cols):\n",
    "    print(idx+1,'.', col)\n",
    "col = int(input('Enter index of column:'))\n",
    "plot_pie(X,cols[col-1])"
   ]
  },
  {
   "cell_type": "code",
   "execution_count": 78,
   "id": "cbc54eec",
   "metadata": {},
   "outputs": [
    {
     "name": "stderr",
     "output_type": "stream",
     "text": [
      "C:\\Users\\Avita\\AppData\\Local\\Temp\\ipykernel_3608\\2450609283.py:1: FutureWarning: A value is trying to be set on a copy of a DataFrame or Series through chained assignment using an inplace method.\n",
      "The behavior will change in pandas 3.0. This inplace method will never work because the intermediate object on which we are setting values always behaves as a copy.\n",
      "\n",
      "For example, when doing 'df[col].method(value, inplace=True)', try using 'df.method({col: value}, inplace=True)' or df[col] = df[col].method(value) instead, to perform the operation inplace on the original object.\n",
      "\n",
      "\n",
      "  mop['covid_res'].replace({3:2}, inplace=True)\n"
     ]
    },
    {
     "data": {
      "text/plain": [
       "covid_res\n",
       "1    7131\n",
       "2    5140\n",
       "Name: count, dtype: int64"
      ]
     },
     "execution_count": 78,
     "metadata": {},
     "output_type": "execute_result"
    }
   ],
   "source": [
    "mop['covid_res'].replace({3:2}, inplace=True)\n",
    "mop['covid_res'].value_counts()"
   ]
  },
  {
   "cell_type": "code",
   "execution_count": 79,
   "id": "9206123f",
   "metadata": {},
   "outputs": [
    {
     "name": "stdout",
     "output_type": "stream",
     "text": [
      "<class 'pandas.core.frame.DataFrame'>\n",
      "RangeIndex: 12271 entries, 0 to 12270\n",
      "Data columns (total 13 columns):\n",
      " #   Column               Non-Null Count  Dtype   \n",
      "---  ------               --------------  -----   \n",
      " 0   pneumonia            12266 non-null  category\n",
      " 1   age                  12254 non-null  float64 \n",
      " 2   diabetes             11906 non-null  category\n",
      " 3   copd                 11967 non-null  category\n",
      " 4   asthma               11975 non-null  category\n",
      " 5   inmsupr              11916 non-null  category\n",
      " 6   hypertension         11946 non-null  category\n",
      " 7   other_disease        11821 non-null  category\n",
      " 8   cardiovascular       11975 non-null  category\n",
      " 9   obesity              11977 non-null  category\n",
      " 10  renal_chronic        11967 non-null  category\n",
      " 11  tobacco              11911 non-null  category\n",
      " 12  contact_other_covid  8378 non-null   category\n",
      "dtypes: category(12), float64(1)\n",
      "memory usage: 241.2 KB\n"
     ]
    }
   ],
   "source": [
    "mop.reset_index(drop=True, inplace=True)\n",
    "X.reset_index(drop=True, inplace=True)\n",
    "X.info()"
   ]
  },
  {
   "cell_type": "code",
   "execution_count": 80,
   "id": "39dc5e28",
   "metadata": {},
   "outputs": [
    {
     "ename": "NameError",
     "evalue": "name 'pcaX' is not defined",
     "output_type": "error",
     "traceback": [
      "\u001b[31m---------------------------------------------------------------------------\u001b[39m",
      "\u001b[31mNameError\u001b[39m                                 Traceback (most recent call last)",
      "\u001b[36mCell\u001b[39m\u001b[36m \u001b[39m\u001b[32mIn[80]\u001b[39m\u001b[32m, line 1\u001b[39m\n\u001b[32m----> \u001b[39m\u001b[32m1\u001b[39m df1 = pd.concat([pd.DataFrame(\u001b[43mpcaX\u001b[49m,columns=[\u001b[33m'\u001b[39m\u001b[33m0\u001b[39m\u001b[33m'\u001b[39m,\u001b[33m'\u001b[39m\u001b[33m1\u001b[39m\u001b[33m'\u001b[39m]),mop[\u001b[33m'\u001b[39m\u001b[33mcovid_res\u001b[39m\u001b[33m'\u001b[39m]], axis=\u001b[32m1\u001b[39m)\n\u001b[32m      2\u001b[39m df1.head()\n",
      "\u001b[31mNameError\u001b[39m: name 'pcaX' is not defined"
     ]
    }
   ],
   "source": [
    "df1 = pd.concat([pd.DataFrame(pcaX,columns=['0','1']),mop['covid_res']], axis=1)\n",
    "df1.head()"
   ]
  },
  {
   "cell_type": "code",
   "execution_count": 81,
   "id": "1551cbb3",
   "metadata": {},
   "outputs": [
    {
     "ename": "NameError",
     "evalue": "name 'df1' is not defined",
     "output_type": "error",
     "traceback": [
      "\u001b[31m---------------------------------------------------------------------------\u001b[39m",
      "\u001b[31mNameError\u001b[39m                                 Traceback (most recent call last)",
      "\u001b[36mCell\u001b[39m\u001b[36m \u001b[39m\u001b[32mIn[81]\u001b[39m\u001b[32m, line 1\u001b[39m\n\u001b[32m----> \u001b[39m\u001b[32m1\u001b[39m sns.scatterplot(\u001b[43mdf1\u001b[49m,x=\u001b[33m'\u001b[39m\u001b[33m0\u001b[39m\u001b[33m'\u001b[39m, y=\u001b[33m'\u001b[39m\u001b[33m1\u001b[39m\u001b[33m'\u001b[39m, hue=\u001b[33m'\u001b[39m\u001b[33mcovid_res\u001b[39m\u001b[33m'\u001b[39m)\n\u001b[32m      2\u001b[39m plt.show()\n",
      "\u001b[31mNameError\u001b[39m: name 'df1' is not defined"
     ]
    }
   ],
   "source": [
    "sns.scatterplot(df1,x='0', y='1', hue='covid_res')\n",
    "plt.show()"
   ]
  },
  {
   "cell_type": "code",
   "execution_count": 82,
   "id": "ce44ea9b",
   "metadata": {},
   "outputs": [],
   "source": [
    "from sklearn.model_selection import train_test_split\n",
    "from sklearn.metrics import accuracy_score, classification_report, confusion_matrix, roc_auc_score, roc_curve"
   ]
  },
  {
   "cell_type": "code",
   "execution_count": 83,
   "id": "630dc0be",
   "metadata": {},
   "outputs": [],
   "source": [
    "xtrain, xtest, ytrain, ytest = train_test_split(X, mop['covid_res'], test_size=0.2, random_state=42)"
   ]
  },
  {
   "cell_type": "code",
   "execution_count": 84,
   "id": "49acad0f",
   "metadata": {},
   "outputs": [
    {
     "name": "stdout",
     "output_type": "stream",
     "text": [
      "Index(['pneumonia', 'age', 'diabetes', 'copd', 'asthma', 'inmsupr',\n",
      "       'hypertension', 'other_disease', 'cardiovascular', 'obesity',\n",
      "       'renal_chronic', 'tobacco', 'contact_other_covid'],\n",
      "      dtype='object')\n",
      "0.675356415478615\n",
      "[[1056  381]\n",
      " [ 416  602]]\n",
      "              precision    recall  f1-score   support\n",
      "\n",
      "           1       0.72      0.73      0.73      1437\n",
      "           2       0.61      0.59      0.60      1018\n",
      "\n",
      "    accuracy                           0.68      2455\n",
      "   macro avg       0.66      0.66      0.66      2455\n",
      "weighted avg       0.67      0.68      0.67      2455\n",
      "\n"
     ]
    }
   ],
   "source": [
    "from sklearn.ensemble import HistGradientBoostingClassifier\n",
    "gbm = HistGradientBoostingClassifier(learning_rate=0.05)\n",
    "print(xtrain.columns)\n",
    "gbm.fit(xtrain,ytrain)\n",
    "yp = gbm.predict(xtest)\n",
    "print(accuracy_score(y_pred=yp, y_true=ytest))\n",
    "print(confusion_matrix(y_pred=yp, y_true=ytest))\n",
    "print(classification_report(y_pred=yp, y_true=ytest))"
   ]
  },
  {
   "cell_type": "code",
   "execution_count": 85,
   "id": "aa635925",
   "metadata": {},
   "outputs": [
    {
     "data": {
      "text/plain": [
       "(7676, 14)"
      ]
     },
     "execution_count": 85,
     "metadata": {},
     "output_type": "execute_result"
    }
   ],
   "source": [
    "mop2 = mop.copy()\n",
    "mop2.dropna(inplace=True, ignore_index=True)\n",
    "mop2.shape"
   ]
  },
  {
   "cell_type": "code",
   "execution_count": 86,
   "id": "b946d0aa",
   "metadata": {},
   "outputs": [],
   "source": [
    "mop2.reset_index(drop=True, inplace=True)"
   ]
  },
  {
   "cell_type": "code",
   "execution_count": 87,
   "id": "dc276779",
   "metadata": {},
   "outputs": [],
   "source": [
    "X2 = mop2.loc[:, ['pneumonia', 'age', 'diabetes', 'copd', 'asthma', 'inmsupr',\n",
    "       'hypertension', 'other_disease', 'cardiovascular', 'obesity',\n",
    "       'renal_chronic', 'tobacco', 'contact_other_covid']]\n",
    "xtr, xte, ytr, yte = train_test_split(X2, mop2['covid_res'], test_size=0.15, random_state=42)"
   ]
  },
  {
   "cell_type": "code",
   "execution_count": 88,
   "id": "90ecac55",
   "metadata": {},
   "outputs": [
    {
     "name": "stdout",
     "output_type": "stream",
     "text": [
      "Index(['pneumonia', 'age', 'diabetes', 'copd', 'asthma', 'inmsupr',\n",
      "       'hypertension', 'other_disease', 'cardiovascular', 'obesity',\n",
      "       'renal_chronic', 'tobacco', 'contact_other_covid'],\n",
      "      dtype='object')\n",
      "0.6875\n",
      "[[485 183]\n",
      " [177 307]]\n",
      "              precision    recall  f1-score   support\n",
      "\n",
      "           1       0.73      0.73      0.73       668\n",
      "           2       0.63      0.63      0.63       484\n",
      "\n",
      "    accuracy                           0.69      1152\n",
      "   macro avg       0.68      0.68      0.68      1152\n",
      "weighted avg       0.69      0.69      0.69      1152\n",
      "\n"
     ]
    }
   ],
   "source": [
    "from sklearn.ensemble import HistGradientBoostingClassifier\n",
    "gbm2 = HistGradientBoostingClassifier(learning_rate=0.1, categorical_features='from_dtype')\n",
    "print(xtr.columns)\n",
    "gbm2.fit(xtr,ytr)\n",
    "yp = gbm2.predict(xte)\n",
    "print(accuracy_score(y_pred=yp, y_true=yte))\n",
    "print(confusion_matrix(y_pred=yp, y_true=yte))\n",
    "print(classification_report(y_pred=yp, y_true=yte))"
   ]
  },
  {
   "cell_type": "code",
   "execution_count": 89,
   "id": "7a1bdd9d",
   "metadata": {},
   "outputs": [
    {
     "name": "stdout",
     "output_type": "stream",
     "text": [
      "0.5824652777777778\n",
      "[[652  16]\n",
      " [465  19]]\n",
      "              precision    recall  f1-score   support\n",
      "\n",
      "           1       0.58      0.98      0.73       668\n",
      "           2       0.54      0.04      0.07       484\n",
      "\n",
      "    accuracy                           0.58      1152\n",
      "   macro avg       0.56      0.51      0.40      1152\n",
      "weighted avg       0.57      0.58      0.45      1152\n",
      "\n"
     ]
    }
   ],
   "source": [
    "from sklearn.svm import SVC\n",
    "svm = SVC()\n",
    "svm.fit(xtr, ytr)\n",
    "yp = svm.predict(xte)\n",
    "print(accuracy_score(y_pred=yp, y_true=yte))\n",
    "print(confusion_matrix(y_pred=yp, y_true=yte))\n",
    "print(classification_report(y_pred=yp, y_true=yte))"
   ]
  },
  {
   "cell_type": "code",
   "execution_count": 90,
   "id": "daf772ea",
   "metadata": {},
   "outputs": [
    {
     "name": "stdout",
     "output_type": "stream",
     "text": [
      "0.6710069444444444\n",
      "[[467 201]\n",
      " [178 306]]\n",
      "              precision    recall  f1-score   support\n",
      "\n",
      "           1       0.72      0.70      0.71       668\n",
      "           2       0.60      0.63      0.62       484\n",
      "\n",
      "    accuracy                           0.67      1152\n",
      "   macro avg       0.66      0.67      0.66      1152\n",
      "weighted avg       0.67      0.67      0.67      1152\n",
      "\n"
     ]
    }
   ],
   "source": [
    "from sklearn.linear_model import LogisticRegression\n",
    "log = LogisticRegression(class_weight='balanced')\n",
    "log.fit(xtr,ytr)\n",
    "yp = log.predict(xte)\n",
    "print(accuracy_score(y_pred=yp, y_true=yte))\n",
    "print(confusion_matrix(y_pred=yp, y_true=yte))\n",
    "print(classification_report(y_pred=yp, y_true=yte))"
   ]
  },
  {
   "cell_type": "code",
   "execution_count": 91,
   "id": "9e1ee0ac",
   "metadata": {},
   "outputs": [
    {
     "name": "stdout",
     "output_type": "stream",
     "text": [
      "0.6362847222222222\n",
      "[[459 209]\n",
      " [210 274]]\n",
      "              precision    recall  f1-score   support\n",
      "\n",
      "           1       0.69      0.69      0.69       668\n",
      "           2       0.57      0.57      0.57       484\n",
      "\n",
      "    accuracy                           0.64      1152\n",
      "   macro avg       0.63      0.63      0.63      1152\n",
      "weighted avg       0.64      0.64      0.64      1152\n",
      "\n"
     ]
    }
   ],
   "source": [
    "from sklearn.ensemble import RandomForestClassifier\n",
    "rf = RandomForestClassifier(class_weight='balanced')\n",
    "rf.fit(xtr,ytr)\n",
    "yp = rf.predict(xte)\n",
    "print(accuracy_score(y_pred=yp, y_true=yte))\n",
    "print(confusion_matrix(y_pred=yp, y_true=yte))\n",
    "print(classification_report(y_pred=yp, y_true=yte))"
   ]
  },
  {
   "cell_type": "code",
   "execution_count": null,
   "id": "ecbf7a8e",
   "metadata": {},
   "outputs": [],
   "source": [
    "import pickle as pkl\n",
    "#pkl.dump(gbm, open('model/gbm.pkl', 'wb'))"
   ]
  },
  {
   "cell_type": "code",
   "execution_count": 104,
   "id": "0d98097f",
   "metadata": {},
   "outputs": [
    {
     "name": "stdout",
     "output_type": "stream",
     "text": [
      "0.7211143544086218\n",
      "[0.73478504 0.72194021 0.73802817 0.69121813 0.71960022]\n",
      "0.6765223771715526\n",
      "[0.69075521 0.67882736 0.6970684  0.64495114 0.67100977]\n"
     ]
    }
   ],
   "source": [
    "from imblearn.pipeline import Pipeline\n",
    "from imblearn.over_sampling import SMOTE\n",
    "from sklearn.model_selection import StratifiedKFold,cross_val_score\n",
    "skf = StratifiedKFold(n_splits=5,shuffle=True, random_state=42)\n",
    "pipeline = Pipeline([\n",
    "    ('smote', SMOTE(random_state=42)),\n",
    "    ('clf', HistGradientBoostingClassifier(learning_rate=0.1,max_iter=150, categorical_features='from_dtype'))\n",
    "])\n",
    "scores = cross_val_score(pipeline, X2, mop2['covid_res'], cv=skf, scoring='f1')\n",
    "print(scores.mean())\n",
    "print(scores)\n",
    "acc_scores = cross_val_score(pipeline, X2, mop2['covid_res'], cv=skf, scoring='accuracy')\n",
    "print(acc_scores.mean())\n",
    "print(acc_scores)"
   ]
  },
  {
   "cell_type": "code",
   "execution_count": 105,
   "id": "9a97ddb5",
   "metadata": {},
   "outputs": [
    {
     "data": {
      "text/html": [
       "<div>\n",
       "<style scoped>\n",
       "    .dataframe tbody tr th:only-of-type {\n",
       "        vertical-align: middle;\n",
       "    }\n",
       "\n",
       "    .dataframe tbody tr th {\n",
       "        vertical-align: top;\n",
       "    }\n",
       "\n",
       "    .dataframe thead th {\n",
       "        text-align: right;\n",
       "    }\n",
       "</style>\n",
       "<table border=\"1\" class=\"dataframe\">\n",
       "  <thead>\n",
       "    <tr style=\"text-align: right;\">\n",
       "      <th></th>\n",
       "      <th>pneumonia</th>\n",
       "      <th>age</th>\n",
       "      <th>diabetes</th>\n",
       "      <th>copd</th>\n",
       "      <th>asthma</th>\n",
       "      <th>inmsupr</th>\n",
       "      <th>hypertension</th>\n",
       "      <th>other_disease</th>\n",
       "      <th>cardiovascular</th>\n",
       "      <th>obesity</th>\n",
       "      <th>renal_chronic</th>\n",
       "      <th>tobacco</th>\n",
       "      <th>contact_other_covid</th>\n",
       "      <th>covid_res</th>\n",
       "    </tr>\n",
       "  </thead>\n",
       "  <tbody>\n",
       "    <tr>\n",
       "      <th>0</th>\n",
       "      <td>0.0</td>\n",
       "      <td>27.0</td>\n",
       "      <td>0.0</td>\n",
       "      <td>0.0</td>\n",
       "      <td>0.0</td>\n",
       "      <td>0.0</td>\n",
       "      <td>0.0</td>\n",
       "      <td>0.0</td>\n",
       "      <td>0.0</td>\n",
       "      <td>0.0</td>\n",
       "      <td>0.0</td>\n",
       "      <td>0.0</td>\n",
       "      <td>0.0</td>\n",
       "      <td>1</td>\n",
       "    </tr>\n",
       "    <tr>\n",
       "      <th>1</th>\n",
       "      <td>0.0</td>\n",
       "      <td>54.0</td>\n",
       "      <td>0.0</td>\n",
       "      <td>0.0</td>\n",
       "      <td>0.0</td>\n",
       "      <td>0.0</td>\n",
       "      <td>0.0</td>\n",
       "      <td>0.0</td>\n",
       "      <td>0.0</td>\n",
       "      <td>0.0</td>\n",
       "      <td>0.0</td>\n",
       "      <td>0.0</td>\n",
       "      <td>1.0</td>\n",
       "      <td>1</td>\n",
       "    </tr>\n",
       "    <tr>\n",
       "      <th>2</th>\n",
       "      <td>0.0</td>\n",
       "      <td>40.0</td>\n",
       "      <td>0.0</td>\n",
       "      <td>0.0</td>\n",
       "      <td>0.0</td>\n",
       "      <td>0.0</td>\n",
       "      <td>0.0</td>\n",
       "      <td>0.0</td>\n",
       "      <td>0.0</td>\n",
       "      <td>0.0</td>\n",
       "      <td>0.0</td>\n",
       "      <td>0.0</td>\n",
       "      <td>1.0</td>\n",
       "      <td>1</td>\n",
       "    </tr>\n",
       "    <tr>\n",
       "      <th>3</th>\n",
       "      <td>1.0</td>\n",
       "      <td>56.0</td>\n",
       "      <td>0.0</td>\n",
       "      <td>0.0</td>\n",
       "      <td>0.0</td>\n",
       "      <td>0.0</td>\n",
       "      <td>0.0</td>\n",
       "      <td>0.0</td>\n",
       "      <td>0.0</td>\n",
       "      <td>0.0</td>\n",
       "      <td>0.0</td>\n",
       "      <td>0.0</td>\n",
       "      <td>0.0</td>\n",
       "      <td>1</td>\n",
       "    </tr>\n",
       "    <tr>\n",
       "      <th>4</th>\n",
       "      <td>0.0</td>\n",
       "      <td>27.0</td>\n",
       "      <td>0.0</td>\n",
       "      <td>0.0</td>\n",
       "      <td>0.0</td>\n",
       "      <td>0.0</td>\n",
       "      <td>0.0</td>\n",
       "      <td>0.0</td>\n",
       "      <td>0.0</td>\n",
       "      <td>0.0</td>\n",
       "      <td>0.0</td>\n",
       "      <td>0.0</td>\n",
       "      <td>1.0</td>\n",
       "      <td>1</td>\n",
       "    </tr>\n",
       "  </tbody>\n",
       "</table>\n",
       "</div>"
      ],
      "text/plain": [
       "  pneumonia   age diabetes  ... tobacco contact_other_covid covid_res\n",
       "0       0.0  27.0      0.0  ...     0.0                 0.0         1\n",
       "1       0.0  54.0      0.0  ...     0.0                 1.0         1\n",
       "2       0.0  40.0      0.0  ...     0.0                 1.0         1\n",
       "3       1.0  56.0      0.0  ...     0.0                 0.0         1\n",
       "4       0.0  27.0      0.0  ...     0.0                 1.0         1\n",
       "\n",
       "[5 rows x 14 columns]"
      ]
     },
     "execution_count": 105,
     "metadata": {},
     "output_type": "execute_result"
    }
   ],
   "source": [
    "mop2[mop2['covid_res']==1].head()"
   ]
  },
  {
   "cell_type": "code",
   "execution_count": 106,
   "id": "8af50bbf",
   "metadata": {},
   "outputs": [
    {
     "data": {
      "text/html": [
       "<div>\n",
       "<style scoped>\n",
       "    .dataframe tbody tr th:only-of-type {\n",
       "        vertical-align: middle;\n",
       "    }\n",
       "\n",
       "    .dataframe tbody tr th {\n",
       "        vertical-align: top;\n",
       "    }\n",
       "\n",
       "    .dataframe thead th {\n",
       "        text-align: right;\n",
       "    }\n",
       "</style>\n",
       "<table border=\"1\" class=\"dataframe\">\n",
       "  <thead>\n",
       "    <tr style=\"text-align: right;\">\n",
       "      <th></th>\n",
       "      <th>pneumonia</th>\n",
       "      <th>age</th>\n",
       "      <th>diabetes</th>\n",
       "      <th>copd</th>\n",
       "      <th>asthma</th>\n",
       "      <th>inmsupr</th>\n",
       "      <th>hypertension</th>\n",
       "      <th>other_disease</th>\n",
       "      <th>cardiovascular</th>\n",
       "      <th>obesity</th>\n",
       "      <th>renal_chronic</th>\n",
       "      <th>tobacco</th>\n",
       "      <th>contact_other_covid</th>\n",
       "      <th>covid_res</th>\n",
       "    </tr>\n",
       "  </thead>\n",
       "  <tbody>\n",
       "    <tr>\n",
       "      <th>4454</th>\n",
       "      <td>0.0</td>\n",
       "      <td>41.0</td>\n",
       "      <td>0.0</td>\n",
       "      <td>0.0</td>\n",
       "      <td>0.0</td>\n",
       "      <td>0.0</td>\n",
       "      <td>1.0</td>\n",
       "      <td>0.0</td>\n",
       "      <td>1.0</td>\n",
       "      <td>0.0</td>\n",
       "      <td>0.0</td>\n",
       "      <td>0.0</td>\n",
       "      <td>1.0</td>\n",
       "      <td>2</td>\n",
       "    </tr>\n",
       "    <tr>\n",
       "      <th>4455</th>\n",
       "      <td>0.0</td>\n",
       "      <td>52.0</td>\n",
       "      <td>0.0</td>\n",
       "      <td>0.0</td>\n",
       "      <td>0.0</td>\n",
       "      <td>1.0</td>\n",
       "      <td>0.0</td>\n",
       "      <td>0.0</td>\n",
       "      <td>0.0</td>\n",
       "      <td>0.0</td>\n",
       "      <td>0.0</td>\n",
       "      <td>0.0</td>\n",
       "      <td>1.0</td>\n",
       "      <td>2</td>\n",
       "    </tr>\n",
       "    <tr>\n",
       "      <th>4456</th>\n",
       "      <td>0.0</td>\n",
       "      <td>16.0</td>\n",
       "      <td>0.0</td>\n",
       "      <td>0.0</td>\n",
       "      <td>0.0</td>\n",
       "      <td>0.0</td>\n",
       "      <td>0.0</td>\n",
       "      <td>1.0</td>\n",
       "      <td>0.0</td>\n",
       "      <td>0.0</td>\n",
       "      <td>0.0</td>\n",
       "      <td>0.0</td>\n",
       "      <td>1.0</td>\n",
       "      <td>2</td>\n",
       "    </tr>\n",
       "    <tr>\n",
       "      <th>4457</th>\n",
       "      <td>1.0</td>\n",
       "      <td>13.0</td>\n",
       "      <td>0.0</td>\n",
       "      <td>0.0</td>\n",
       "      <td>1.0</td>\n",
       "      <td>0.0</td>\n",
       "      <td>0.0</td>\n",
       "      <td>0.0</td>\n",
       "      <td>0.0</td>\n",
       "      <td>0.0</td>\n",
       "      <td>0.0</td>\n",
       "      <td>0.0</td>\n",
       "      <td>1.0</td>\n",
       "      <td>2</td>\n",
       "    </tr>\n",
       "    <tr>\n",
       "      <th>4458</th>\n",
       "      <td>0.0</td>\n",
       "      <td>36.0</td>\n",
       "      <td>0.0</td>\n",
       "      <td>0.0</td>\n",
       "      <td>0.0</td>\n",
       "      <td>0.0</td>\n",
       "      <td>0.0</td>\n",
       "      <td>0.0</td>\n",
       "      <td>0.0</td>\n",
       "      <td>0.0</td>\n",
       "      <td>1.0</td>\n",
       "      <td>1.0</td>\n",
       "      <td>1.0</td>\n",
       "      <td>2</td>\n",
       "    </tr>\n",
       "  </tbody>\n",
       "</table>\n",
       "</div>"
      ],
      "text/plain": [
       "     pneumonia   age diabetes  ... tobacco contact_other_covid covid_res\n",
       "4454       0.0  41.0      0.0  ...     0.0                 1.0         2\n",
       "4455       0.0  52.0      0.0  ...     0.0                 1.0         2\n",
       "4456       0.0  16.0      0.0  ...     0.0                 1.0         2\n",
       "4457       1.0  13.0      0.0  ...     0.0                 1.0         2\n",
       "4458       0.0  36.0      0.0  ...     1.0                 1.0         2\n",
       "\n",
       "[5 rows x 14 columns]"
      ]
     },
     "execution_count": 106,
     "metadata": {},
     "output_type": "execute_result"
    }
   ],
   "source": [
    "mop2[mop2['covid_res']==2].head()"
   ]
  },
  {
   "cell_type": "code",
   "execution_count": 102,
   "id": "91ec2129",
   "metadata": {},
   "outputs": [
    {
     "data": {
      "text/plain": [
       "pneumonia              7676\n",
       "age                    7676\n",
       "diabetes               7676\n",
       "copd                   7676\n",
       "asthma                 7676\n",
       "inmsupr                7676\n",
       "hypertension           7676\n",
       "other_disease          7676\n",
       "cardiovascular         7676\n",
       "obesity                7676\n",
       "renal_chronic          7676\n",
       "tobacco                7676\n",
       "contact_other_covid    7676\n",
       "dtype: int64"
      ]
     },
     "execution_count": 102,
     "metadata": {},
     "output_type": "execute_result"
    }
   ],
   "source": [
    "X2.count()"
   ]
  },
  {
   "cell_type": "code",
   "execution_count": null,
   "id": "baad3b87",
   "metadata": {},
   "outputs": [],
   "source": [
    "pipeline.fit(X2,mop2['covid_res'])\n",
    "#pkl.dump(pipeline, open('model/mop_pl.pkl', 'wb'))\n",
    "#final model"
   ]
  },
  {
   "cell_type": "code",
   "execution_count": null,
   "id": "7136faf1",
   "metadata": {},
   "outputs": [
    {
     "name": "stdout",
     "output_type": "stream",
     "text": [
      "0.6940393172570415\n",
      "[0.68850698 0.69676049 0.67807487 0.70600858 0.70084567]\n",
      "0.6409128074813408\n",
      "[0.63074984 0.64713296 0.62192817 0.66162571 0.64312736]\n"
     ]
    }
   ],
   "source": [
    "from imblearn.pipeline import Pipeline\n",
    "from imblearn.over_sampling import SMOTE\n",
    "from sklearn.model_selection import StratifiedKFold,cross_val_score\n",
    "skf = StratifiedKFold(n_splits=5,shuffle=True, random_state=42)\n",
    "pipeline = Pipeline([\n",
    "    ('smote', SMOTE(random_state=42)),\n",
    "    ('clf', RandomForestClassifier(criterion='entropy'))\n",
    "])\n",
    "scores = cross_val_score(pipeline, X2, mop2['covid_res'], cv=skf, scoring='f1')\n",
    "print(scores.mean())\n",
    "print(scores)\n",
    "acc_scores = cross_val_score(pipeline, X2, mop2['covid_res'], cv=skf, scoring='accuracy')\n",
    "print(acc_scores.mean())\n",
    "print(acc_scores)"
   ]
  },
  {
   "cell_type": "code",
   "execution_count": null,
   "id": "ad5e30e9",
   "metadata": {},
   "outputs": [],
   "source": [
    "pipeline.fit(X2,mop2['covid_res'])\n",
    "#pkl.dump(pipeline, open('model/mop_pl.pkl', 'wb'))\n",
    "#final model"
   ]
  },
  {
   "cell_type": "markdown",
   "id": "cbaca7e8",
   "metadata": {},
   "source": [
    "FOP model"
   ]
  },
  {
   "cell_type": "code",
   "execution_count": 108,
   "id": "10cf88b1",
   "metadata": {},
   "outputs": [
    {
     "name": "stdout",
     "output_type": "stream",
     "text": [
      "<class 'pandas.core.frame.DataFrame'>\n",
      "Index: 13573 entries, 7 to 566513\n",
      "Data columns (total 15 columns):\n",
      " #   Column               Non-Null Count  Dtype   \n",
      "---  ------               --------------  -----   \n",
      " 0   pneumonia            13568 non-null  category\n",
      " 1   age                  13541 non-null  float64 \n",
      " 2   pregnancy            12987 non-null  category\n",
      " 3   diabetes             13178 non-null  category\n",
      " 4   copd                 13246 non-null  category\n",
      " 5   asthma               13239 non-null  category\n",
      " 6   inmsupr              13172 non-null  category\n",
      " 7   hypertension         13220 non-null  category\n",
      " 8   other_disease        13060 non-null  category\n",
      " 9   cardiovascular       13229 non-null  category\n",
      " 10  obesity              13249 non-null  category\n",
      " 11  renal_chronic        13230 non-null  category\n",
      " 12  tobacco              13214 non-null  category\n",
      " 13  contact_other_covid  9265 non-null   category\n",
      " 14  covid_res            13573 non-null  int64   \n",
      "dtypes: category(13), float64(1), int64(1)\n",
      "memory usage: 492.0 KB\n"
     ]
    }
   ],
   "source": [
    "fop.info()"
   ]
  },
  {
   "cell_type": "code",
   "execution_count": 109,
   "id": "c6d3e208",
   "metadata": {},
   "outputs": [
    {
     "data": {
      "text/plain": [
       "Index(['pneumonia', 'age', 'pregnancy', 'diabetes', 'copd', 'asthma',\n",
       "       'inmsupr', 'hypertension', 'other_disease', 'cardiovascular', 'obesity',\n",
       "       'renal_chronic', 'tobacco', 'contact_other_covid', 'covid_res'],\n",
       "      dtype='object')"
      ]
     },
     "execution_count": 109,
     "metadata": {},
     "output_type": "execute_result"
    }
   ],
   "source": [
    "fop.columns"
   ]
  },
  {
   "cell_type": "code",
   "execution_count": 110,
   "id": "99c39288",
   "metadata": {},
   "outputs": [],
   "source": [
    "fop_X = fop.loc[:, ['pneumonia', 'age', 'pregnancy', 'diabetes', 'copd', 'asthma',\n",
    "       'inmsupr', 'hypertension', 'other_disease', 'cardiovascular', 'obesity',\n",
    "       'renal_chronic', 'tobacco', 'contact_other_covid']]\n",
    "fop2 = fop.dropna()\n",
    "fop2_X = fop2.loc[:, ['pneumonia', 'age', 'pregnancy', 'diabetes', 'copd', 'asthma',\n",
    "       'inmsupr', 'hypertension', 'other_disease', 'cardiovascular', 'obesity',\n",
    "       'renal_chronic', 'tobacco', 'contact_other_covid']]"
   ]
  },
  {
   "cell_type": "code",
   "execution_count": 112,
   "id": "37d64d9c",
   "metadata": {},
   "outputs": [
    {
     "data": {
      "text/html": [
       "<div>\n",
       "<style scoped>\n",
       "    .dataframe tbody tr th:only-of-type {\n",
       "        vertical-align: middle;\n",
       "    }\n",
       "\n",
       "    .dataframe tbody tr th {\n",
       "        vertical-align: top;\n",
       "    }\n",
       "\n",
       "    .dataframe thead th {\n",
       "        text-align: right;\n",
       "    }\n",
       "</style>\n",
       "<table border=\"1\" class=\"dataframe\">\n",
       "  <thead>\n",
       "    <tr style=\"text-align: right;\">\n",
       "      <th></th>\n",
       "      <th>pneumonia</th>\n",
       "      <th>age</th>\n",
       "      <th>pregnancy</th>\n",
       "      <th>diabetes</th>\n",
       "      <th>copd</th>\n",
       "      <th>asthma</th>\n",
       "      <th>inmsupr</th>\n",
       "      <th>hypertension</th>\n",
       "      <th>other_disease</th>\n",
       "      <th>cardiovascular</th>\n",
       "      <th>obesity</th>\n",
       "      <th>renal_chronic</th>\n",
       "      <th>tobacco</th>\n",
       "      <th>contact_other_covid</th>\n",
       "      <th>covid_res</th>\n",
       "    </tr>\n",
       "  </thead>\n",
       "  <tbody>\n",
       "    <tr>\n",
       "      <th>220703</th>\n",
       "      <td>0.0</td>\n",
       "      <td>58.0</td>\n",
       "      <td>0.0</td>\n",
       "      <td>0.0</td>\n",
       "      <td>0.0</td>\n",
       "      <td>0.0</td>\n",
       "      <td>1.0</td>\n",
       "      <td>0.0</td>\n",
       "      <td>0.0</td>\n",
       "      <td>1.0</td>\n",
       "      <td>0.0</td>\n",
       "      <td>0.0</td>\n",
       "      <td>0.0</td>\n",
       "      <td>1.0</td>\n",
       "      <td>2</td>\n",
       "    </tr>\n",
       "    <tr>\n",
       "      <th>220710</th>\n",
       "      <td>0.0</td>\n",
       "      <td>41.0</td>\n",
       "      <td>0.0</td>\n",
       "      <td>0.0</td>\n",
       "      <td>0.0</td>\n",
       "      <td>0.0</td>\n",
       "      <td>0.0</td>\n",
       "      <td>1.0</td>\n",
       "      <td>1.0</td>\n",
       "      <td>1.0</td>\n",
       "      <td>1.0</td>\n",
       "      <td>0.0</td>\n",
       "      <td>0.0</td>\n",
       "      <td>1.0</td>\n",
       "      <td>2</td>\n",
       "    </tr>\n",
       "    <tr>\n",
       "      <th>220775</th>\n",
       "      <td>1.0</td>\n",
       "      <td>44.0</td>\n",
       "      <td>0.0</td>\n",
       "      <td>0.0</td>\n",
       "      <td>0.0</td>\n",
       "      <td>0.0</td>\n",
       "      <td>0.0</td>\n",
       "      <td>0.0</td>\n",
       "      <td>0.0</td>\n",
       "      <td>0.0</td>\n",
       "      <td>0.0</td>\n",
       "      <td>0.0</td>\n",
       "      <td>1.0</td>\n",
       "      <td>0.0</td>\n",
       "      <td>2</td>\n",
       "    </tr>\n",
       "    <tr>\n",
       "      <th>220843</th>\n",
       "      <td>1.0</td>\n",
       "      <td>38.0</td>\n",
       "      <td>0.0</td>\n",
       "      <td>1.0</td>\n",
       "      <td>0.0</td>\n",
       "      <td>0.0</td>\n",
       "      <td>0.0</td>\n",
       "      <td>0.0</td>\n",
       "      <td>0.0</td>\n",
       "      <td>0.0</td>\n",
       "      <td>0.0</td>\n",
       "      <td>0.0</td>\n",
       "      <td>0.0</td>\n",
       "      <td>0.0</td>\n",
       "      <td>2</td>\n",
       "    </tr>\n",
       "    <tr>\n",
       "      <th>220944</th>\n",
       "      <td>0.0</td>\n",
       "      <td>21.0</td>\n",
       "      <td>0.0</td>\n",
       "      <td>0.0</td>\n",
       "      <td>0.0</td>\n",
       "      <td>0.0</td>\n",
       "      <td>0.0</td>\n",
       "      <td>0.0</td>\n",
       "      <td>1.0</td>\n",
       "      <td>0.0</td>\n",
       "      <td>1.0</td>\n",
       "      <td>0.0</td>\n",
       "      <td>1.0</td>\n",
       "      <td>1.0</td>\n",
       "      <td>2</td>\n",
       "    </tr>\n",
       "  </tbody>\n",
       "</table>\n",
       "</div>"
      ],
      "text/plain": [
       "       pneumonia   age pregnancy  ... tobacco contact_other_covid covid_res\n",
       "220703       0.0  58.0       0.0  ...     0.0                 1.0         2\n",
       "220710       0.0  41.0       0.0  ...     0.0                 1.0         2\n",
       "220775       1.0  44.0       0.0  ...     1.0                 0.0         2\n",
       "220843       1.0  38.0       0.0  ...     0.0                 0.0         2\n",
       "220944       0.0  21.0       0.0  ...     1.0                 1.0         2\n",
       "\n",
       "[5 rows x 15 columns]"
      ]
     },
     "execution_count": 112,
     "metadata": {},
     "output_type": "execute_result"
    }
   ],
   "source": [
    "fop2[fop2['covid_res']==2].head()"
   ]
  },
  {
   "cell_type": "code",
   "execution_count": 113,
   "id": "94ea4d2a",
   "metadata": {},
   "outputs": [
    {
     "data": {
      "text/html": [
       "<div>\n",
       "<style scoped>\n",
       "    .dataframe tbody tr th:only-of-type {\n",
       "        vertical-align: middle;\n",
       "    }\n",
       "\n",
       "    .dataframe tbody tr th {\n",
       "        vertical-align: top;\n",
       "    }\n",
       "\n",
       "    .dataframe thead th {\n",
       "        text-align: right;\n",
       "    }\n",
       "</style>\n",
       "<table border=\"1\" class=\"dataframe\">\n",
       "  <thead>\n",
       "    <tr style=\"text-align: right;\">\n",
       "      <th></th>\n",
       "      <th>pneumonia</th>\n",
       "      <th>age</th>\n",
       "      <th>pregnancy</th>\n",
       "      <th>diabetes</th>\n",
       "      <th>copd</th>\n",
       "      <th>asthma</th>\n",
       "      <th>inmsupr</th>\n",
       "      <th>hypertension</th>\n",
       "      <th>other_disease</th>\n",
       "      <th>cardiovascular</th>\n",
       "      <th>obesity</th>\n",
       "      <th>renal_chronic</th>\n",
       "      <th>tobacco</th>\n",
       "      <th>contact_other_covid</th>\n",
       "      <th>covid_res</th>\n",
       "    </tr>\n",
       "  </thead>\n",
       "  <tbody>\n",
       "    <tr>\n",
       "      <th>7</th>\n",
       "      <td>0.0</td>\n",
       "      <td>56.0</td>\n",
       "      <td>0.0</td>\n",
       "      <td>0.0</td>\n",
       "      <td>0.0</td>\n",
       "      <td>0.0</td>\n",
       "      <td>0.0</td>\n",
       "      <td>1.0</td>\n",
       "      <td>0.0</td>\n",
       "      <td>0.0</td>\n",
       "      <td>0.0</td>\n",
       "      <td>1.0</td>\n",
       "      <td>1.0</td>\n",
       "      <td>1.0</td>\n",
       "      <td>1</td>\n",
       "    </tr>\n",
       "    <tr>\n",
       "      <th>13</th>\n",
       "      <td>0.0</td>\n",
       "      <td>34.0</td>\n",
       "      <td>0.0</td>\n",
       "      <td>0.0</td>\n",
       "      <td>0.0</td>\n",
       "      <td>0.0</td>\n",
       "      <td>0.0</td>\n",
       "      <td>0.0</td>\n",
       "      <td>0.0</td>\n",
       "      <td>0.0</td>\n",
       "      <td>0.0</td>\n",
       "      <td>0.0</td>\n",
       "      <td>0.0</td>\n",
       "      <td>1.0</td>\n",
       "      <td>1</td>\n",
       "    </tr>\n",
       "    <tr>\n",
       "      <th>15</th>\n",
       "      <td>0.0</td>\n",
       "      <td>34.0</td>\n",
       "      <td>0.0</td>\n",
       "      <td>0.0</td>\n",
       "      <td>0.0</td>\n",
       "      <td>0.0</td>\n",
       "      <td>0.0</td>\n",
       "      <td>0.0</td>\n",
       "      <td>0.0</td>\n",
       "      <td>0.0</td>\n",
       "      <td>0.0</td>\n",
       "      <td>0.0</td>\n",
       "      <td>1.0</td>\n",
       "      <td>0.0</td>\n",
       "      <td>1</td>\n",
       "    </tr>\n",
       "    <tr>\n",
       "      <th>16</th>\n",
       "      <td>0.0</td>\n",
       "      <td>49.0</td>\n",
       "      <td>0.0</td>\n",
       "      <td>1.0</td>\n",
       "      <td>0.0</td>\n",
       "      <td>0.0</td>\n",
       "      <td>0.0</td>\n",
       "      <td>0.0</td>\n",
       "      <td>0.0</td>\n",
       "      <td>0.0</td>\n",
       "      <td>0.0</td>\n",
       "      <td>0.0</td>\n",
       "      <td>0.0</td>\n",
       "      <td>1.0</td>\n",
       "      <td>1</td>\n",
       "    </tr>\n",
       "    <tr>\n",
       "      <th>29</th>\n",
       "      <td>1.0</td>\n",
       "      <td>49.0</td>\n",
       "      <td>0.0</td>\n",
       "      <td>0.0</td>\n",
       "      <td>0.0</td>\n",
       "      <td>0.0</td>\n",
       "      <td>0.0</td>\n",
       "      <td>1.0</td>\n",
       "      <td>0.0</td>\n",
       "      <td>0.0</td>\n",
       "      <td>0.0</td>\n",
       "      <td>0.0</td>\n",
       "      <td>0.0</td>\n",
       "      <td>1.0</td>\n",
       "      <td>1</td>\n",
       "    </tr>\n",
       "  </tbody>\n",
       "</table>\n",
       "</div>"
      ],
      "text/plain": [
       "   pneumonia   age pregnancy  ... tobacco contact_other_covid covid_res\n",
       "7        0.0  56.0       0.0  ...     1.0                 1.0         1\n",
       "13       0.0  34.0       0.0  ...     0.0                 1.0         1\n",
       "15       0.0  34.0       0.0  ...     1.0                 0.0         1\n",
       "16       0.0  49.0       0.0  ...     0.0                 1.0         1\n",
       "29       1.0  49.0       0.0  ...     0.0                 1.0         1\n",
       "\n",
       "[5 rows x 15 columns]"
      ]
     },
     "execution_count": 113,
     "metadata": {},
     "output_type": "execute_result"
    }
   ],
   "source": [
    "fop2[fop2['covid_res']==1].head()"
   ]
  },
  {
   "cell_type": "code",
   "execution_count": null,
   "id": "6597e0e2",
   "metadata": {},
   "outputs": [],
   "source": [
    "xtr,xte,ytr,yte = train_test_split(fop_X, fop['covid_res'], test_size=0.2, random_state=42)\n",
    "xtr2,xte2,ytr2,yte2 = train_test_split(fop2_X, fop2['covid_res'], test_size=0.2, random_state=42)\n"
   ]
  },
  {
   "cell_type": "code",
   "execution_count": null,
   "id": "cfb5c50e",
   "metadata": {},
   "outputs": [
    {
     "name": "stdout",
     "output_type": "stream",
     "text": [
      "0.657347670250896\n",
      "[[894 681]\n",
      " [275 940]]\n",
      "              precision    recall  f1-score   support\n",
      "\n",
      "           1       0.76      0.57      0.65      1575\n",
      "           2       0.58      0.77      0.66      1215\n",
      "\n",
      "    accuracy                           0.66      2790\n",
      "   macro avg       0.67      0.67      0.66      2790\n",
      "weighted avg       0.68      0.66      0.66      2790\n",
      "\n"
     ]
    }
   ],
   "source": [
    "fop_hgbc = HistGradientBoostingClassifier(learning_rate=0.05, max_iter=150, class_weight='balanced', categorical_features='from_dtype')\n",
    "fop_hgbc.fit(xtr, ytr)\n",
    "yp = fop_hgbc.predict(xte)\n",
    "print(accuracy_score(y_pred=yp, y_true=yte))\n",
    "print(confusion_matrix(y_pred=yp, y_true=yte))\n",
    "print(classification_report(y_pred=yp, y_true=yte))"
   ]
  },
  {
   "cell_type": "code",
   "execution_count": null,
   "id": "53dc1a7f",
   "metadata": {},
   "outputs": [
    {
     "name": "stdout",
     "output_type": "stream",
     "text": [
      "0.6336336336336337\n",
      "[[628 317]\n",
      " [293 427]]\n",
      "              precision    recall  f1-score   support\n",
      "\n",
      "           1       0.68      0.66      0.67       945\n",
      "           2       0.57      0.59      0.58       720\n",
      "\n",
      "    accuracy                           0.63      1665\n",
      "   macro avg       0.63      0.63      0.63      1665\n",
      "weighted avg       0.64      0.63      0.63      1665\n",
      "\n"
     ]
    }
   ],
   "source": [
    "from sklearn.ensemble import RandomForestClassifier\n",
    "rf = RandomForestClassifier(criterion='gini',class_weight='balanced')\n",
    "rf.fit(xtr2, ytr2)\n",
    "yp = rf.predict(xte2)\n",
    "print(accuracy_score(y_pred=yp, y_true=yte2))\n",
    "print(confusion_matrix(y_pred=yp, y_true=yte2))\n",
    "print(classification_report(y_pred=yp, y_true=yte2))"
   ]
  },
  {
   "cell_type": "code",
   "execution_count": null,
   "id": "16c529b6",
   "metadata": {},
   "outputs": [],
   "source": [
    "pkl.dump(pipeline, open('model/fop_rf.pkl', 'wb'))"
   ]
  },
  {
   "cell_type": "code",
   "execution_count": null,
   "id": "72148ea8",
   "metadata": {},
   "outputs": [
    {
     "name": "stdout",
     "output_type": "stream",
     "text": [
      "0.7015539643607283\n",
      "[0.70279146 0.70991957 0.7076412  0.69106566 0.69635193]\n",
      "0.669269967082467\n",
      "[0.67387387 0.67487981 0.68269231 0.65504808 0.65985577]\n"
     ]
    }
   ],
   "source": [
    "from imblearn.pipeline import Pipeline\n",
    "from imblearn.over_sampling import SMOTE\n",
    "from sklearn.model_selection import StratifiedKFold,cross_val_score\n",
    "skf = StratifiedKFold(n_splits=5,shuffle=True, random_state=42)\n",
    "pipeline = Pipeline([\n",
    "    ('smote', SMOTE(random_state=42)),\n",
    "    ('clf', HistGradientBoostingClassifier(learning_rate=0.08,max_iter=150, class_weight='balanced', categorical_features='from_dtype'))\n",
    "])\n",
    "scores = cross_val_score(pipeline, fop2_X, fop2['covid_res'], cv=skf, scoring='f1')\n",
    "print(scores.mean())\n",
    "print(scores)\n",
    "acc_scores = cross_val_score(pipeline, fop2_X, fop2['covid_res'], cv=skf, scoring='accuracy')\n",
    "print(acc_scores.mean())\n",
    "print(acc_scores)"
   ]
  },
  {
   "cell_type": "code",
   "execution_count": null,
   "id": "2e188182",
   "metadata": {},
   "outputs": [],
   "source": [
    "pipeline.fit(fop2_X,fop2['covid_res'])\n",
    "#pkl.dump(pipeline, open('model/fop_pl.pkl', 'wb'))\n",
    "#final_model"
   ]
  },
  {
   "cell_type": "markdown",
   "id": "61083872",
   "metadata": {},
   "source": [
    "Mhos model training"
   ]
  },
  {
   "cell_type": "code",
   "execution_count": 114,
   "id": "35f595ec",
   "metadata": {},
   "outputs": [
    {
     "data": {
      "text/plain": [
       "covid_res\n",
       "1    4854\n",
       "2    3347\n",
       "Name: count, dtype: int64"
      ]
     },
     "execution_count": 114,
     "metadata": {},
     "output_type": "execute_result"
    }
   ],
   "source": [
    "mhos.dropna(inplace=True)\n",
    "mhos['covid_res'].value_counts()"
   ]
  },
  {
   "cell_type": "code",
   "execution_count": 115,
   "id": "7e3b2c8a",
   "metadata": {},
   "outputs": [
    {
     "data": {
      "text/plain": [
       "Index(['intubated', 'pneumonia', 'age', 'diabetes', 'copd', 'asthma',\n",
       "       'inmsupr', 'hypertension', 'other_disease', 'cardiovascular', 'obesity',\n",
       "       'renal_chronic', 'tobacco', 'contact_other_covid', 'covid_res', 'icu'],\n",
       "      dtype='object')"
      ]
     },
     "execution_count": 115,
     "metadata": {},
     "output_type": "execute_result"
    }
   ],
   "source": [
    "mhos.columns"
   ]
  },
  {
   "cell_type": "code",
   "execution_count": 116,
   "id": "f09a23b8",
   "metadata": {},
   "outputs": [],
   "source": [
    "mhos_X = mhos.loc[:, ['intubated', 'pneumonia', 'age', 'diabetes', 'copd', 'asthma',\n",
    "       'inmsupr', 'hypertension', 'other_disease', 'cardiovascular', 'obesity',\n",
    "       'renal_chronic', 'tobacco', 'contact_other_covid', 'icu']]"
   ]
  },
  {
   "cell_type": "code",
   "execution_count": 117,
   "id": "f702a496",
   "metadata": {},
   "outputs": [
    {
     "data": {
      "text/html": [
       "<div>\n",
       "<style scoped>\n",
       "    .dataframe tbody tr th:only-of-type {\n",
       "        vertical-align: middle;\n",
       "    }\n",
       "\n",
       "    .dataframe tbody tr th {\n",
       "        vertical-align: top;\n",
       "    }\n",
       "\n",
       "    .dataframe thead th {\n",
       "        text-align: right;\n",
       "    }\n",
       "</style>\n",
       "<table border=\"1\" class=\"dataframe\">\n",
       "  <thead>\n",
       "    <tr style=\"text-align: right;\">\n",
       "      <th></th>\n",
       "      <th>intubated</th>\n",
       "      <th>pneumonia</th>\n",
       "      <th>age</th>\n",
       "      <th>diabetes</th>\n",
       "      <th>copd</th>\n",
       "      <th>asthma</th>\n",
       "      <th>inmsupr</th>\n",
       "      <th>hypertension</th>\n",
       "      <th>other_disease</th>\n",
       "      <th>cardiovascular</th>\n",
       "      <th>obesity</th>\n",
       "      <th>renal_chronic</th>\n",
       "      <th>tobacco</th>\n",
       "      <th>contact_other_covid</th>\n",
       "      <th>covid_res</th>\n",
       "      <th>icu</th>\n",
       "    </tr>\n",
       "  </thead>\n",
       "  <tbody>\n",
       "    <tr>\n",
       "      <th>108</th>\n",
       "      <td>1.0</td>\n",
       "      <td>1.0</td>\n",
       "      <td>67.0</td>\n",
       "      <td>0.0</td>\n",
       "      <td>0.0</td>\n",
       "      <td>0.0</td>\n",
       "      <td>1.0</td>\n",
       "      <td>1.0</td>\n",
       "      <td>1.0</td>\n",
       "      <td>0.0</td>\n",
       "      <td>1.0</td>\n",
       "      <td>0.0</td>\n",
       "      <td>0.0</td>\n",
       "      <td>1.0</td>\n",
       "      <td>1</td>\n",
       "      <td>0.0</td>\n",
       "    </tr>\n",
       "    <tr>\n",
       "      <th>113</th>\n",
       "      <td>0.0</td>\n",
       "      <td>1.0</td>\n",
       "      <td>58.0</td>\n",
       "      <td>1.0</td>\n",
       "      <td>0.0</td>\n",
       "      <td>0.0</td>\n",
       "      <td>0.0</td>\n",
       "      <td>1.0</td>\n",
       "      <td>0.0</td>\n",
       "      <td>0.0</td>\n",
       "      <td>0.0</td>\n",
       "      <td>0.0</td>\n",
       "      <td>0.0</td>\n",
       "      <td>0.0</td>\n",
       "      <td>1</td>\n",
       "      <td>0.0</td>\n",
       "    </tr>\n",
       "    <tr>\n",
       "      <th>150</th>\n",
       "      <td>0.0</td>\n",
       "      <td>1.0</td>\n",
       "      <td>80.0</td>\n",
       "      <td>0.0</td>\n",
       "      <td>0.0</td>\n",
       "      <td>0.0</td>\n",
       "      <td>0.0</td>\n",
       "      <td>1.0</td>\n",
       "      <td>0.0</td>\n",
       "      <td>0.0</td>\n",
       "      <td>1.0</td>\n",
       "      <td>0.0</td>\n",
       "      <td>0.0</td>\n",
       "      <td>1.0</td>\n",
       "      <td>1</td>\n",
       "      <td>0.0</td>\n",
       "    </tr>\n",
       "    <tr>\n",
       "      <th>243</th>\n",
       "      <td>0.0</td>\n",
       "      <td>1.0</td>\n",
       "      <td>76.0</td>\n",
       "      <td>1.0</td>\n",
       "      <td>0.0</td>\n",
       "      <td>0.0</td>\n",
       "      <td>0.0</td>\n",
       "      <td>0.0</td>\n",
       "      <td>0.0</td>\n",
       "      <td>0.0</td>\n",
       "      <td>0.0</td>\n",
       "      <td>0.0</td>\n",
       "      <td>0.0</td>\n",
       "      <td>0.0</td>\n",
       "      <td>1</td>\n",
       "      <td>0.0</td>\n",
       "    </tr>\n",
       "    <tr>\n",
       "      <th>310</th>\n",
       "      <td>0.0</td>\n",
       "      <td>1.0</td>\n",
       "      <td>17.0</td>\n",
       "      <td>0.0</td>\n",
       "      <td>0.0</td>\n",
       "      <td>0.0</td>\n",
       "      <td>1.0</td>\n",
       "      <td>0.0</td>\n",
       "      <td>0.0</td>\n",
       "      <td>0.0</td>\n",
       "      <td>1.0</td>\n",
       "      <td>0.0</td>\n",
       "      <td>0.0</td>\n",
       "      <td>0.0</td>\n",
       "      <td>1</td>\n",
       "      <td>0.0</td>\n",
       "    </tr>\n",
       "  </tbody>\n",
       "</table>\n",
       "</div>"
      ],
      "text/plain": [
       "    intubated pneumonia   age  ... contact_other_covid covid_res  icu\n",
       "108       1.0       1.0  67.0  ...                 1.0         1  0.0\n",
       "113       0.0       1.0  58.0  ...                 0.0         1  0.0\n",
       "150       0.0       1.0  80.0  ...                 1.0         1  0.0\n",
       "243       0.0       1.0  76.0  ...                 0.0         1  0.0\n",
       "310       0.0       1.0  17.0  ...                 0.0         1  0.0\n",
       "\n",
       "[5 rows x 16 columns]"
      ]
     },
     "execution_count": 117,
     "metadata": {},
     "output_type": "execute_result"
    }
   ],
   "source": [
    "mhos[mhos['covid_res']==1].head()"
   ]
  },
  {
   "cell_type": "code",
   "execution_count": 118,
   "id": "65db757e",
   "metadata": {},
   "outputs": [
    {
     "data": {
      "text/html": [
       "<div>\n",
       "<style scoped>\n",
       "    .dataframe tbody tr th:only-of-type {\n",
       "        vertical-align: middle;\n",
       "    }\n",
       "\n",
       "    .dataframe tbody tr th {\n",
       "        vertical-align: top;\n",
       "    }\n",
       "\n",
       "    .dataframe thead th {\n",
       "        text-align: right;\n",
       "    }\n",
       "</style>\n",
       "<table border=\"1\" class=\"dataframe\">\n",
       "  <thead>\n",
       "    <tr style=\"text-align: right;\">\n",
       "      <th></th>\n",
       "      <th>intubated</th>\n",
       "      <th>pneumonia</th>\n",
       "      <th>age</th>\n",
       "      <th>diabetes</th>\n",
       "      <th>copd</th>\n",
       "      <th>asthma</th>\n",
       "      <th>inmsupr</th>\n",
       "      <th>hypertension</th>\n",
       "      <th>other_disease</th>\n",
       "      <th>cardiovascular</th>\n",
       "      <th>obesity</th>\n",
       "      <th>renal_chronic</th>\n",
       "      <th>tobacco</th>\n",
       "      <th>contact_other_covid</th>\n",
       "      <th>covid_res</th>\n",
       "      <th>icu</th>\n",
       "    </tr>\n",
       "  </thead>\n",
       "  <tbody>\n",
       "    <tr>\n",
       "      <th>220700</th>\n",
       "      <td>1.0</td>\n",
       "      <td>1.0</td>\n",
       "      <td>68.0</td>\n",
       "      <td>1.0</td>\n",
       "      <td>1.0</td>\n",
       "      <td>0.0</td>\n",
       "      <td>0.0</td>\n",
       "      <td>1.0</td>\n",
       "      <td>0.0</td>\n",
       "      <td>1.0</td>\n",
       "      <td>1.0</td>\n",
       "      <td>0.0</td>\n",
       "      <td>0.0</td>\n",
       "      <td>1.0</td>\n",
       "      <td>2</td>\n",
       "      <td>1.0</td>\n",
       "    </tr>\n",
       "    <tr>\n",
       "      <th>220870</th>\n",
       "      <td>0.0</td>\n",
       "      <td>1.0</td>\n",
       "      <td>53.0</td>\n",
       "      <td>0.0</td>\n",
       "      <td>0.0</td>\n",
       "      <td>0.0</td>\n",
       "      <td>0.0</td>\n",
       "      <td>0.0</td>\n",
       "      <td>0.0</td>\n",
       "      <td>0.0</td>\n",
       "      <td>0.0</td>\n",
       "      <td>1.0</td>\n",
       "      <td>0.0</td>\n",
       "      <td>0.0</td>\n",
       "      <td>2</td>\n",
       "      <td>0.0</td>\n",
       "    </tr>\n",
       "    <tr>\n",
       "      <th>221062</th>\n",
       "      <td>0.0</td>\n",
       "      <td>0.0</td>\n",
       "      <td>55.0</td>\n",
       "      <td>0.0</td>\n",
       "      <td>0.0</td>\n",
       "      <td>0.0</td>\n",
       "      <td>0.0</td>\n",
       "      <td>1.0</td>\n",
       "      <td>0.0</td>\n",
       "      <td>0.0</td>\n",
       "      <td>1.0</td>\n",
       "      <td>0.0</td>\n",
       "      <td>0.0</td>\n",
       "      <td>1.0</td>\n",
       "      <td>2</td>\n",
       "      <td>0.0</td>\n",
       "    </tr>\n",
       "    <tr>\n",
       "      <th>221438</th>\n",
       "      <td>0.0</td>\n",
       "      <td>0.0</td>\n",
       "      <td>30.0</td>\n",
       "      <td>1.0</td>\n",
       "      <td>0.0</td>\n",
       "      <td>0.0</td>\n",
       "      <td>0.0</td>\n",
       "      <td>0.0</td>\n",
       "      <td>0.0</td>\n",
       "      <td>0.0</td>\n",
       "      <td>1.0</td>\n",
       "      <td>0.0</td>\n",
       "      <td>1.0</td>\n",
       "      <td>0.0</td>\n",
       "      <td>2</td>\n",
       "      <td>0.0</td>\n",
       "    </tr>\n",
       "    <tr>\n",
       "      <th>221462</th>\n",
       "      <td>0.0</td>\n",
       "      <td>0.0</td>\n",
       "      <td>62.0</td>\n",
       "      <td>0.0</td>\n",
       "      <td>1.0</td>\n",
       "      <td>0.0</td>\n",
       "      <td>0.0</td>\n",
       "      <td>1.0</td>\n",
       "      <td>0.0</td>\n",
       "      <td>0.0</td>\n",
       "      <td>0.0</td>\n",
       "      <td>0.0</td>\n",
       "      <td>0.0</td>\n",
       "      <td>0.0</td>\n",
       "      <td>2</td>\n",
       "      <td>0.0</td>\n",
       "    </tr>\n",
       "  </tbody>\n",
       "</table>\n",
       "</div>"
      ],
      "text/plain": [
       "       intubated pneumonia   age  ... contact_other_covid covid_res  icu\n",
       "220700       1.0       1.0  68.0  ...                 1.0         2  1.0\n",
       "220870       0.0       1.0  53.0  ...                 0.0         2  0.0\n",
       "221062       0.0       0.0  55.0  ...                 1.0         2  0.0\n",
       "221438       0.0       0.0  30.0  ...                 0.0         2  0.0\n",
       "221462       0.0       0.0  62.0  ...                 0.0         2  0.0\n",
       "\n",
       "[5 rows x 16 columns]"
      ]
     },
     "execution_count": 118,
     "metadata": {},
     "output_type": "execute_result"
    }
   ],
   "source": [
    "mhos[mhos['covid_res']==2].head()"
   ]
  },
  {
   "cell_type": "code",
   "execution_count": null,
   "id": "07a6a1d0",
   "metadata": {},
   "outputs": [
    {
     "name": "stdout",
     "output_type": "stream",
     "text": [
      "0.7937941362025074\n",
      "[0.80415225 0.79586207 0.79134138 0.78986272 0.78775226]\n",
      "0.712347486578819\n",
      "[0.71986335 0.71400683 0.71059053 0.71107857 0.70619815]\n"
     ]
    }
   ],
   "source": [
    "from imblearn.pipeline import Pipeline\n",
    "from imblearn.over_sampling import SMOTE\n",
    "from sklearn.model_selection import StratifiedKFold,cross_val_score\n",
    "skf = StratifiedKFold(n_splits=5,shuffle=True, random_state=42)\n",
    "pipeline = Pipeline([\n",
    "    ('smote', SMOTE(random_state=42)),\n",
    "    ('clf', HistGradientBoostingClassifier(learning_rate=0.01,max_iter=200, class_weight='balanced', categorical_features='from_dtype'))\n",
    "])\n",
    "scores = cross_val_score(pipeline, mhos_X, mhos['covid_res'], cv=skf, scoring='f1')\n",
    "print(scores.mean())\n",
    "print(scores)\n",
    "acc_scores = cross_val_score(pipeline, mhos_X, mhos['covid_res'], cv=skf, scoring='accuracy')\n",
    "print(acc_scores.mean())\n",
    "print(acc_scores)"
   ]
  },
  {
   "cell_type": "code",
   "execution_count": null,
   "id": "c9d158b5",
   "metadata": {},
   "outputs": [],
   "source": [
    "pipeline.fit(mhos_X,mhos['covid_res'])\n",
    "pkl.dump(pipeline, open('model/mhos_pl.pkl', 'wb'))\n",
    "#final_model"
   ]
  },
  {
   "cell_type": "markdown",
   "id": "1861874e",
   "metadata": {},
   "source": [
    "FHos "
   ]
  },
  {
   "cell_type": "code",
   "execution_count": 119,
   "id": "e054579b",
   "metadata": {},
   "outputs": [
    {
     "name": "stdout",
     "output_type": "stream",
     "text": [
      "<class 'pandas.core.frame.DataFrame'>\n",
      "Index: 12735 entries, 2 to 566593\n",
      "Data columns (total 17 columns):\n",
      " #   Column               Non-Null Count  Dtype   \n",
      "---  ------               --------------  -----   \n",
      " 0   intubated            12706 non-null  category\n",
      " 1   pneumonia            12735 non-null  category\n",
      " 2   age                  12709 non-null  float64 \n",
      " 3   pregnancy            12611 non-null  category\n",
      " 4   diabetes             12589 non-null  category\n",
      " 5   copd                 12627 non-null  category\n",
      " 6   asthma               12622 non-null  category\n",
      " 7   inmsupr              12593 non-null  category\n",
      " 8   hypertension         12618 non-null  category\n",
      " 9   other_disease        12486 non-null  category\n",
      " 10  cardiovascular       12607 non-null  category\n",
      " 11  obesity              12606 non-null  category\n",
      " 12  renal_chronic        12620 non-null  category\n",
      " 13  tobacco              12598 non-null  category\n",
      " 14  contact_other_covid  7203 non-null   category\n",
      " 15  covid_res            12735 non-null  int64   \n",
      " 16  icu                  12705 non-null  category\n",
      "dtypes: category(15), float64(1), int64(1)\n",
      "memory usage: 486.8 KB\n"
     ]
    }
   ],
   "source": [
    "fhos.info()"
   ]
  },
  {
   "cell_type": "code",
   "execution_count": 120,
   "id": "b0175e64",
   "metadata": {},
   "outputs": [
    {
     "data": {
      "text/plain": [
       "covid_res\n",
       "1    3754\n",
       "2    3068\n",
       "Name: count, dtype: int64"
      ]
     },
     "execution_count": 120,
     "metadata": {},
     "output_type": "execute_result"
    }
   ],
   "source": [
    "fhos.dropna(inplace=True)\n",
    "fhos['covid_res'].value_counts()"
   ]
  },
  {
   "cell_type": "code",
   "execution_count": 121,
   "id": "3d1e0d2e",
   "metadata": {},
   "outputs": [
    {
     "data": {
      "text/plain": [
       "Index(['intubated', 'pneumonia', 'age', 'pregnancy', 'diabetes', 'copd',\n",
       "       'asthma', 'inmsupr', 'hypertension', 'other_disease', 'cardiovascular',\n",
       "       'obesity', 'renal_chronic', 'tobacco', 'contact_other_covid',\n",
       "       'covid_res', 'icu'],\n",
       "      dtype='object')"
      ]
     },
     "execution_count": 121,
     "metadata": {},
     "output_type": "execute_result"
    }
   ],
   "source": [
    "fhos.columns"
   ]
  },
  {
   "cell_type": "code",
   "execution_count": 122,
   "id": "796c9ac3",
   "metadata": {},
   "outputs": [],
   "source": [
    "fhos_X = fhos.loc[:, ['intubated', 'pneumonia', 'age', 'pregnancy', 'diabetes', 'copd',\n",
    "       'asthma', 'inmsupr', 'hypertension', 'other_disease', 'cardiovascular',\n",
    "       'obesity', 'renal_chronic', 'tobacco', 'contact_other_covid', 'icu']]"
   ]
  },
  {
   "cell_type": "code",
   "execution_count": 123,
   "id": "66c0f76e",
   "metadata": {},
   "outputs": [],
   "source": [
    "xtr,xte,ytr,yte = train_test_split(fhos_X,fhos['covid_res'], test_size=0.2, random_state=42)"
   ]
  },
  {
   "cell_type": "code",
   "execution_count": 124,
   "id": "ce002b82",
   "metadata": {},
   "outputs": [
    {
     "name": "stdout",
     "output_type": "stream",
     "text": [
      "0.6153846153846154\n",
      "[[503 268]\n",
      " [257 337]]\n",
      "              precision    recall  f1-score   support\n",
      "\n",
      "           1       0.66      0.65      0.66       771\n",
      "           2       0.56      0.57      0.56       594\n",
      "\n",
      "    accuracy                           0.62      1365\n",
      "   macro avg       0.61      0.61      0.61      1365\n",
      "weighted avg       0.62      0.62      0.62      1365\n",
      "\n"
     ]
    }
   ],
   "source": [
    "rf=RandomForestClassifier(class_weight='balanced')\n",
    "rf.fit(xtr,ytr)\n",
    "yp = rf.predict(xte)\n",
    "print(accuracy_score(y_pred=yp, y_true=yte))\n",
    "print(confusion_matrix(y_pred=yp, y_true=yte))\n",
    "print(classification_report(y_pred=yp, y_true=yte))"
   ]
  },
  {
   "cell_type": "code",
   "execution_count": 125,
   "id": "3b617f9c",
   "metadata": {},
   "outputs": [
    {
     "name": "stdout",
     "output_type": "stream",
     "text": [
      "(array([   1,    2,    4, ..., 5453, 5454, 5455]),)\n",
      "       intubated pneumonia   age  ... tobacco contact_other_covid  icu\n",
      "112580       0.0       1.0  52.0  ...     0.0                 0.0  0.0\n",
      "265075       0.0       0.0  11.0  ...     0.0                 0.0  0.0\n",
      "534215       0.0       0.0  39.0  ...     0.0                 0.0  0.0\n",
      "69321        0.0       0.0  94.0  ...     0.0                 0.0  0.0\n",
      "327148       0.0       1.0  74.0  ...     1.0                 1.0  0.0\n",
      "...          ...       ...   ...  ...     ...                 ...  ...\n",
      "228296       0.0       0.0  62.0  ...     0.0                 0.0  1.0\n",
      "374553       0.0       0.0  10.0  ...     0.0                 0.0  0.0\n",
      "379118       0.0       1.0  53.0  ...     0.0                 0.0  0.0\n",
      "398212       0.0       0.0  60.0  ...     1.0                 0.0  0.0\n",
      "29513        0.0       1.0  78.0  ...     0.0                 0.0  0.0\n",
      "\n",
      "[5457 rows x 16 columns]\n",
      "0.6622710622710622\n",
      "[[505 266]\n",
      " [195 399]]\n",
      "              precision    recall  f1-score   support\n",
      "\n",
      "           1       0.72      0.65      0.69       771\n",
      "           2       0.60      0.67      0.63       594\n",
      "\n",
      "    accuracy                           0.66      1365\n",
      "   macro avg       0.66      0.66      0.66      1365\n",
      "weighted avg       0.67      0.66      0.66      1365\n",
      "\n"
     ]
    }
   ],
   "source": [
    "fop_hgbc = HistGradientBoostingClassifier(learning_rate=0.05, max_iter=150, class_weight='balanced', categorical_features='from_dtype')\n",
    "fop_hgbc.fit(xtr, ytr)\n",
    "yp = fop_hgbc.predict(xte)\n",
    "print(np.where(ytr==2))\n",
    "print(xtr)\n",
    "print(accuracy_score(y_pred=yp, y_true=yte))\n",
    "print(confusion_matrix(y_pred=yp, y_true=yte))\n",
    "print(classification_report(y_pred=yp, y_true=yte))"
   ]
  },
  {
   "cell_type": "code",
   "execution_count": 131,
   "id": "27642ee7",
   "metadata": {},
   "outputs": [
    {
     "name": "stdout",
     "output_type": "stream",
     "text": [
      "0.7051486923899303\n",
      "[0.72025723 0.69749009 0.70065359 0.71901363 0.68832891]\n",
      "0.6695973918554563\n",
      "[0.68131868 0.66446886 0.66422287 0.68255132 0.65542522]\n"
     ]
    }
   ],
   "source": [
    "from imblearn.pipeline import Pipeline\n",
    "from imblearn.over_sampling import SMOTE\n",
    "from sklearn.model_selection import StratifiedKFold,cross_val_score\n",
    "skf = StratifiedKFold(n_splits=5,shuffle=True, random_state=42)\n",
    "pipeline = Pipeline([\n",
    "    ('smote', SMOTE(random_state=42)),\n",
    "    ('clf', HistGradientBoostingClassifier(learning_rate=0.03,max_iter=350, class_weight='balanced', categorical_features='from_dtype'))\n",
    "])\n",
    "scores = cross_val_score(pipeline, fhos_X, fhos['covid_res'], cv=skf, scoring='f1')\n",
    "print(scores.mean())\n",
    "print(scores)\n",
    "acc_scores = cross_val_score(pipeline, fhos_X, fhos['covid_res'], cv=skf, scoring='accuracy')\n",
    "print(acc_scores.mean())\n",
    "print(acc_scores)"
   ]
  },
  {
   "cell_type": "code",
   "execution_count": 132,
   "id": "f88ec96a",
   "metadata": {},
   "outputs": [],
   "source": [
    "pipeline.fit(fhos_X,fhos['covid_res'])\n",
    "pkl.dump(pipeline, open(\"model/fhos_pl.pkl\", \"wb\"))"
   ]
  }
 ],
 "metadata": {
  "kernelspec": {
   "display_name": ".venv",
   "language": "python",
   "name": "python3"
  },
  "language_info": {
   "codemirror_mode": {
    "name": "ipython",
    "version": 3
   },
   "file_extension": ".py",
   "mimetype": "text/x-python",
   "name": "python",
   "nbconvert_exporter": "python",
   "pygments_lexer": "ipython3",
   "version": "3.12.6"
  }
 },
 "nbformat": 4,
 "nbformat_minor": 5
}
