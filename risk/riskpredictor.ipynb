{
 "cells": [
  {
   "cell_type": "code",
   "execution_count": 109,
   "metadata": {},
   "outputs": [],
   "source": [
    "import pandas as pd\n",
    "import numpy as np"
   ]
  },
  {
   "cell_type": "code",
   "execution_count": 110,
   "metadata": {},
   "outputs": [
    {
     "name": "stdout",
     "output_type": "stream",
     "text": [
      "['USMER', 'MEDICAL_UNIT', 'SEX', 'PATIENT_TYPE', 'DATE_DIED', 'INTUBED', 'PNEUMONIA', 'AGE', 'PREGNANT', 'DIABETES', 'COPD', 'ASTHMA', 'INMSUPR', 'HIPERTENSION', 'OTHER_DISEASE', 'CARDIOVASCULAR', 'OBESITY', 'RENAL_CHRONIC', 'TOBACCO', 'CLASSIFICATION_FINAL', 'ICU']\n"
     ]
    },
    {
     "data": {
      "text/plain": [
       "CLASSIFICATION_FINAL\n",
       "3    106712\n",
       "7     77075\n",
       "6     33629\n",
       "5     10900\n",
       "1      4730\n",
       "2      1846\n",
       "4      1634\n",
       "Name: count, dtype: int64"
      ]
     },
     "execution_count": 110,
     "metadata": {},
     "output_type": "execute_result"
    }
   ],
   "source": [
    "df = pd.read_csv(r'dataset\\Covid Data.csv')\n",
    "df.drop_duplicates(inplace=True)\n",
    "print(list(df.columns))\n",
    "df['CLASSIFICATION_FINAL'].value_counts()"
   ]
  },
  {
   "cell_type": "code",
   "execution_count": 111,
   "metadata": {},
   "outputs": [
    {
     "data": {
      "text/plain": [
       "CLASSIFICATION_FINAL\n",
       "3    106712\n",
       "1      4730\n",
       "2      1846\n",
       "Name: count, dtype: int64"
      ]
     },
     "execution_count": 111,
     "metadata": {},
     "output_type": "execute_result"
    }
   ],
   "source": [
    "df.drop(df[df['CLASSIFICATION_FINAL']>=4].index, inplace=True)\n",
    "df['CLASSIFICATION_FINAL'].value_counts()"
   ]
  },
  {
   "cell_type": "code",
   "execution_count": 112,
   "metadata": {},
   "outputs": [
    {
     "data": {
      "text/plain": [
       "SEX\n",
       "2    65720\n",
       "1    47568\n",
       "Name: count, dtype: int64"
      ]
     },
     "execution_count": 112,
     "metadata": {},
     "output_type": "execute_result"
    }
   ],
   "source": [
    "df['SEX'].value_counts()"
   ]
  },
  {
   "cell_type": "code",
   "execution_count": 113,
   "metadata": {},
   "outputs": [
    {
     "data": {
      "text/plain": [
       "PREGNANT\n",
       "2     111541\n",
       "1       1080\n",
       "98       667\n",
       "Name: count, dtype: int64"
      ]
     },
     "execution_count": 113,
     "metadata": {},
     "output_type": "execute_result"
    }
   ],
   "source": [
    "df.loc[df['SEX']==2, 'PREGNANT'] = 2\n",
    "df['PREGNANT'].value_counts()"
   ]
  },
  {
   "cell_type": "code",
   "execution_count": 114,
   "metadata": {},
   "outputs": [
    {
     "data": {
      "text/plain": [
       "PREGNANT\n",
       "2    111541\n",
       "1      1080\n",
       "Name: count, dtype: int64"
      ]
     },
     "execution_count": 114,
     "metadata": {},
     "output_type": "execute_result"
    }
   ],
   "source": [
    "df.drop(df[df['PREGNANT']==98].index,inplace=True)\n",
    "df['PREGNANT'].value_counts()"
   ]
  },
  {
   "cell_type": "code",
   "execution_count": 115,
   "metadata": {},
   "outputs": [
    {
     "data": {
      "text/plain": [
       "SEX\n",
       "2    65720\n",
       "1    46901\n",
       "Name: count, dtype: int64"
      ]
     },
     "execution_count": 115,
     "metadata": {},
     "output_type": "execute_result"
    }
   ],
   "source": [
    "df['SEX'].value_counts()"
   ]
  },
  {
   "cell_type": "code",
   "execution_count": 116,
   "metadata": {},
   "outputs": [
    {
     "data": {
      "text/plain": [
       "ICU\n",
       "2     65228\n",
       "97    36258\n",
       "1      9642\n",
       "99     1493\n",
       "Name: count, dtype: int64"
      ]
     },
     "execution_count": 116,
     "metadata": {},
     "output_type": "execute_result"
    }
   ],
   "source": [
    "df['ICU'].value_counts()"
   ]
  },
  {
   "cell_type": "code",
   "execution_count": 117,
   "metadata": {},
   "outputs": [
    {
     "data": {
      "text/plain": [
       "ICU\n",
       "2     101486\n",
       "1       9642\n",
       "99      1493\n",
       "Name: count, dtype: int64"
      ]
     },
     "execution_count": 117,
     "metadata": {},
     "output_type": "execute_result"
    }
   ],
   "source": [
    "df.loc[df['PATIENT_TYPE']==1, ['INTUBED','ICU']] = 2\n",
    "df['ICU'].value_counts()"
   ]
  },
  {
   "cell_type": "code",
   "execution_count": 118,
   "metadata": {},
   "outputs": [
    {
     "data": {
      "text/plain": [
       "ICU\n",
       "2    101486\n",
       "1      9642\n",
       "Name: count, dtype: int64"
      ]
     },
     "execution_count": 118,
     "metadata": {},
     "output_type": "execute_result"
    }
   ],
   "source": [
    "df.drop(df[df['ICU']==99].index, inplace=True)\n",
    "df['ICU'].value_counts()"
   ]
  },
  {
   "cell_type": "code",
   "execution_count": 119,
   "metadata": {},
   "outputs": [
    {
     "data": {
      "text/plain": [
       "DEATH\n",
       "2.0    59024\n",
       "1.0    52104\n",
       "Name: count, dtype: int64"
      ]
     },
     "execution_count": 119,
     "metadata": {},
     "output_type": "execute_result"
    }
   ],
   "source": [
    "df.loc[df['DATE_DIED']=='9999-99-99', 'DEATH'] = 2\n",
    "df.loc[df['DATE_DIED']!='9999-99-99', 'DEATH'] = 1\n",
    "df['DEATH'].value_counts()"
   ]
  },
  {
   "cell_type": "code",
   "execution_count": 120,
   "metadata": {},
   "outputs": [
    {
     "name": "stdout",
     "output_type": "stream",
     "text": [
      "<class 'pandas.core.frame.DataFrame'>\n",
      "Index: 108466 entries, 0 to 1047937\n",
      "Data columns (total 22 columns):\n",
      " #   Column                Non-Null Count   Dtype  \n",
      "---  ------                --------------   -----  \n",
      " 0   USMER                 108466 non-null  int64  \n",
      " 1   MEDICAL_UNIT          108466 non-null  int64  \n",
      " 2   SEX                   108466 non-null  int64  \n",
      " 3   PATIENT_TYPE          108466 non-null  int64  \n",
      " 4   DATE_DIED             108466 non-null  object \n",
      " 5   INTUBED               108466 non-null  int64  \n",
      " 6   PNEUMONIA             108466 non-null  int64  \n",
      " 7   AGE                   108466 non-null  int64  \n",
      " 8   PREGNANT              108466 non-null  int64  \n",
      " 9   DIABETES              108466 non-null  int64  \n",
      " 10  COPD                  108466 non-null  int64  \n",
      " 11  ASTHMA                108466 non-null  int64  \n",
      " 12  INMSUPR               108466 non-null  int64  \n",
      " 13  HIPERTENSION          108466 non-null  int64  \n",
      " 14  OTHER_DISEASE         108466 non-null  int64  \n",
      " 15  CARDIOVASCULAR        108466 non-null  int64  \n",
      " 16  OBESITY               108466 non-null  int64  \n",
      " 17  RENAL_CHRONIC         108466 non-null  int64  \n",
      " 18  TOBACCO               108466 non-null  int64  \n",
      " 19  CLASSIFICATION_FINAL  108466 non-null  int64  \n",
      " 20  ICU                   108466 non-null  int64  \n",
      " 21  DEATH                 108466 non-null  float64\n",
      "dtypes: float64(1), int64(20), object(1)\n",
      "memory usage: 19.0+ MB\n"
     ]
    }
   ],
   "source": [
    "cols = ['PNEUMONIA', 'DIABETES', 'COPD', 'ASTHMA', 'INMSUPR', 'HIPERTENSION', 'OTHER_DISEASE', 'CARDIOVASCULAR', 'OBESITY', 'RENAL_CHRONIC', 'TOBACCO']\n",
    "for i in cols:\n",
    "    df.drop(df[df[i]==98].index, inplace=True)\n",
    "df.info()"
   ]
  },
  {
   "cell_type": "code",
   "execution_count": 121,
   "metadata": {},
   "outputs": [
    {
     "name": "stdout",
     "output_type": "stream",
     "text": [
      "USMER\n",
      "2    54984\n",
      "1    53482\n",
      "Name: count, dtype: int64\n",
      "MEDICAL_UNIT\n",
      "4     43750\n",
      "12    36409\n",
      "6      9614\n",
      "9      5145\n",
      "3      4221\n",
      "8      3232\n",
      "10     2124\n",
      "5      1849\n",
      "11     1421\n",
      "7       351\n",
      "13      300\n",
      "1        38\n",
      "2        12\n",
      "Name: count, dtype: int64\n",
      "SEX\n",
      "2    63147\n",
      "1    45319\n",
      "Name: count, dtype: int64\n",
      "PATIENT_TYPE\n",
      "2    73416\n",
      "1    35050\n",
      "Name: count, dtype: int64\n",
      "DATE_DIED\n",
      "9999-99-99    57214\n",
      "06/07/2020      733\n",
      "13/07/2020      731\n",
      "07/07/2020      720\n",
      "16/07/2020      709\n",
      "              ...  \n",
      "22/10/2020        1\n",
      "27/11/2020        1\n",
      "03/12/2020        1\n",
      "25/12/2020        1\n",
      "28/12/2020        1\n",
      "Name: count, Length: 288, dtype: int64\n",
      "INTUBED\n",
      "2    86125\n",
      "1    22341\n",
      "Name: count, dtype: int64\n",
      "PNEUMONIA\n",
      "1     59297\n",
      "2     49165\n",
      "99        4\n",
      "Name: count, dtype: int64\n",
      "AGE\n",
      "56     2577\n",
      "60     2550\n",
      "59     2543\n",
      "57     2523\n",
      "61     2491\n",
      "       ... \n",
      "116       1\n",
      "105       1\n",
      "104       1\n",
      "120       1\n",
      "106       1\n",
      "Name: count, Length: 109, dtype: int64\n",
      "PREGNANT\n",
      "2    107400\n",
      "1      1066\n",
      "Name: count, dtype: int64\n",
      "DIABETES\n",
      "2    70936\n",
      "1    37530\n",
      "Name: count, dtype: int64\n",
      "COPD\n",
      "2    102759\n",
      "1      5707\n",
      "Name: count, dtype: int64\n",
      "ASTHMA\n",
      "2    102558\n",
      "1      5908\n",
      "Name: count, dtype: int64\n",
      "INMSUPR\n",
      "2    104190\n",
      "1      4276\n",
      "Name: count, dtype: int64\n",
      "HIPERTENSION\n",
      "2    64866\n",
      "1    43600\n",
      "Name: count, dtype: int64\n",
      "OTHER_DISEASE\n",
      "2    101178\n",
      "1      7288\n",
      "Name: count, dtype: int64\n",
      "CARDIOVASCULAR\n",
      "2    101041\n",
      "1      7425\n",
      "Name: count, dtype: int64\n",
      "OBESITY\n",
      "2    77229\n",
      "1    31237\n",
      "Name: count, dtype: int64\n",
      "RENAL_CHRONIC\n",
      "2    101244\n",
      "1      7222\n",
      "Name: count, dtype: int64\n",
      "TOBACCO\n",
      "2    95116\n",
      "1    13350\n",
      "Name: count, dtype: int64\n",
      "CLASSIFICATION_FINAL\n",
      "3    102157\n",
      "1      4531\n",
      "2      1778\n",
      "Name: count, dtype: int64\n",
      "ICU\n",
      "2    99054\n",
      "1     9412\n",
      "Name: count, dtype: int64\n",
      "DEATH\n",
      "2.0    57214\n",
      "1.0    51252\n",
      "Name: count, dtype: int64\n"
     ]
    }
   ],
   "source": [
    "for i in df.columns:\n",
    "    print(df[i].value_counts())"
   ]
  },
  {
   "cell_type": "code",
   "execution_count": 124,
   "metadata": {},
   "outputs": [
    {
     "ename": "KeyError",
     "evalue": "\"['DATE_DIED'] not found in axis\"",
     "output_type": "error",
     "traceback": [
      "\u001b[31m---------------------------------------------------------------------------\u001b[39m",
      "\u001b[31mKeyError\u001b[39m                                  Traceback (most recent call last)",
      "\u001b[36mCell\u001b[39m\u001b[36m \u001b[39m\u001b[32mIn[124]\u001b[39m\u001b[32m, line 1\u001b[39m\n\u001b[32m----> \u001b[39m\u001b[32m1\u001b[39m \u001b[43mdf\u001b[49m\u001b[43m.\u001b[49m\u001b[43mdrop\u001b[49m\u001b[43m(\u001b[49m\u001b[43mlabels\u001b[49m\u001b[43m=\u001b[49m\u001b[33;43m'\u001b[39;49m\u001b[33;43mDATE_DIED\u001b[39;49m\u001b[33;43m'\u001b[39;49m\u001b[43m,\u001b[49m\u001b[43m \u001b[49m\u001b[43minplace\u001b[49m\u001b[43m=\u001b[49m\u001b[38;5;28;43;01mTrue\u001b[39;49;00m\u001b[43m,\u001b[49m\u001b[43m \u001b[49m\u001b[43maxis\u001b[49m\u001b[43m=\u001b[49m\u001b[32;43m1\u001b[39;49m\u001b[43m)\u001b[49m\n\u001b[32m      2\u001b[39m df\n",
      "\u001b[36mFile \u001b[39m\u001b[32mf:\\Sem 6\\DSA\\Lab\\Covid19Predictor\\.venv\\Lib\\site-packages\\pandas\\core\\frame.py:5581\u001b[39m, in \u001b[36mDataFrame.drop\u001b[39m\u001b[34m(self, labels, axis, index, columns, level, inplace, errors)\u001b[39m\n\u001b[32m   5433\u001b[39m \u001b[38;5;28;01mdef\u001b[39;00m\u001b[38;5;250m \u001b[39m\u001b[34mdrop\u001b[39m(\n\u001b[32m   5434\u001b[39m     \u001b[38;5;28mself\u001b[39m,\n\u001b[32m   5435\u001b[39m     labels: IndexLabel | \u001b[38;5;28;01mNone\u001b[39;00m = \u001b[38;5;28;01mNone\u001b[39;00m,\n\u001b[32m   (...)\u001b[39m\u001b[32m   5442\u001b[39m     errors: IgnoreRaise = \u001b[33m\"\u001b[39m\u001b[33mraise\u001b[39m\u001b[33m\"\u001b[39m,\n\u001b[32m   5443\u001b[39m ) -> DataFrame | \u001b[38;5;28;01mNone\u001b[39;00m:\n\u001b[32m   5444\u001b[39m \u001b[38;5;250m    \u001b[39m\u001b[33;03m\"\"\"\u001b[39;00m\n\u001b[32m   5445\u001b[39m \u001b[33;03m    Drop specified labels from rows or columns.\u001b[39;00m\n\u001b[32m   5446\u001b[39m \n\u001b[32m   (...)\u001b[39m\u001b[32m   5579\u001b[39m \u001b[33;03m            weight  1.0     0.8\u001b[39;00m\n\u001b[32m   5580\u001b[39m \u001b[33;03m    \"\"\"\u001b[39;00m\n\u001b[32m-> \u001b[39m\u001b[32m5581\u001b[39m     \u001b[38;5;28;01mreturn\u001b[39;00m \u001b[38;5;28;43msuper\u001b[39;49m\u001b[43m(\u001b[49m\u001b[43m)\u001b[49m\u001b[43m.\u001b[49m\u001b[43mdrop\u001b[49m\u001b[43m(\u001b[49m\n\u001b[32m   5582\u001b[39m \u001b[43m        \u001b[49m\u001b[43mlabels\u001b[49m\u001b[43m=\u001b[49m\u001b[43mlabels\u001b[49m\u001b[43m,\u001b[49m\n\u001b[32m   5583\u001b[39m \u001b[43m        \u001b[49m\u001b[43maxis\u001b[49m\u001b[43m=\u001b[49m\u001b[43maxis\u001b[49m\u001b[43m,\u001b[49m\n\u001b[32m   5584\u001b[39m \u001b[43m        \u001b[49m\u001b[43mindex\u001b[49m\u001b[43m=\u001b[49m\u001b[43mindex\u001b[49m\u001b[43m,\u001b[49m\n\u001b[32m   5585\u001b[39m \u001b[43m        \u001b[49m\u001b[43mcolumns\u001b[49m\u001b[43m=\u001b[49m\u001b[43mcolumns\u001b[49m\u001b[43m,\u001b[49m\n\u001b[32m   5586\u001b[39m \u001b[43m        \u001b[49m\u001b[43mlevel\u001b[49m\u001b[43m=\u001b[49m\u001b[43mlevel\u001b[49m\u001b[43m,\u001b[49m\n\u001b[32m   5587\u001b[39m \u001b[43m        \u001b[49m\u001b[43minplace\u001b[49m\u001b[43m=\u001b[49m\u001b[43minplace\u001b[49m\u001b[43m,\u001b[49m\n\u001b[32m   5588\u001b[39m \u001b[43m        \u001b[49m\u001b[43merrors\u001b[49m\u001b[43m=\u001b[49m\u001b[43merrors\u001b[49m\u001b[43m,\u001b[49m\n\u001b[32m   5589\u001b[39m \u001b[43m    \u001b[49m\u001b[43m)\u001b[49m\n",
      "\u001b[36mFile \u001b[39m\u001b[32mf:\\Sem 6\\DSA\\Lab\\Covid19Predictor\\.venv\\Lib\\site-packages\\pandas\\core\\generic.py:4788\u001b[39m, in \u001b[36mNDFrame.drop\u001b[39m\u001b[34m(self, labels, axis, index, columns, level, inplace, errors)\u001b[39m\n\u001b[32m   4786\u001b[39m \u001b[38;5;28;01mfor\u001b[39;00m axis, labels \u001b[38;5;129;01min\u001b[39;00m axes.items():\n\u001b[32m   4787\u001b[39m     \u001b[38;5;28;01mif\u001b[39;00m labels \u001b[38;5;129;01mis\u001b[39;00m \u001b[38;5;129;01mnot\u001b[39;00m \u001b[38;5;28;01mNone\u001b[39;00m:\n\u001b[32m-> \u001b[39m\u001b[32m4788\u001b[39m         obj = \u001b[43mobj\u001b[49m\u001b[43m.\u001b[49m\u001b[43m_drop_axis\u001b[49m\u001b[43m(\u001b[49m\u001b[43mlabels\u001b[49m\u001b[43m,\u001b[49m\u001b[43m \u001b[49m\u001b[43maxis\u001b[49m\u001b[43m,\u001b[49m\u001b[43m \u001b[49m\u001b[43mlevel\u001b[49m\u001b[43m=\u001b[49m\u001b[43mlevel\u001b[49m\u001b[43m,\u001b[49m\u001b[43m \u001b[49m\u001b[43merrors\u001b[49m\u001b[43m=\u001b[49m\u001b[43merrors\u001b[49m\u001b[43m)\u001b[49m\n\u001b[32m   4790\u001b[39m \u001b[38;5;28;01mif\u001b[39;00m inplace:\n\u001b[32m   4791\u001b[39m     \u001b[38;5;28mself\u001b[39m._update_inplace(obj)\n",
      "\u001b[36mFile \u001b[39m\u001b[32mf:\\Sem 6\\DSA\\Lab\\Covid19Predictor\\.venv\\Lib\\site-packages\\pandas\\core\\generic.py:4830\u001b[39m, in \u001b[36mNDFrame._drop_axis\u001b[39m\u001b[34m(self, labels, axis, level, errors, only_slice)\u001b[39m\n\u001b[32m   4828\u001b[39m         new_axis = axis.drop(labels, level=level, errors=errors)\n\u001b[32m   4829\u001b[39m     \u001b[38;5;28;01melse\u001b[39;00m:\n\u001b[32m-> \u001b[39m\u001b[32m4830\u001b[39m         new_axis = \u001b[43maxis\u001b[49m\u001b[43m.\u001b[49m\u001b[43mdrop\u001b[49m\u001b[43m(\u001b[49m\u001b[43mlabels\u001b[49m\u001b[43m,\u001b[49m\u001b[43m \u001b[49m\u001b[43merrors\u001b[49m\u001b[43m=\u001b[49m\u001b[43merrors\u001b[49m\u001b[43m)\u001b[49m\n\u001b[32m   4831\u001b[39m     indexer = axis.get_indexer(new_axis)\n\u001b[32m   4833\u001b[39m \u001b[38;5;66;03m# Case for non-unique axis\u001b[39;00m\n\u001b[32m   4834\u001b[39m \u001b[38;5;28;01melse\u001b[39;00m:\n",
      "\u001b[36mFile \u001b[39m\u001b[32mf:\\Sem 6\\DSA\\Lab\\Covid19Predictor\\.venv\\Lib\\site-packages\\pandas\\core\\indexes\\base.py:7070\u001b[39m, in \u001b[36mIndex.drop\u001b[39m\u001b[34m(self, labels, errors)\u001b[39m\n\u001b[32m   7068\u001b[39m \u001b[38;5;28;01mif\u001b[39;00m mask.any():\n\u001b[32m   7069\u001b[39m     \u001b[38;5;28;01mif\u001b[39;00m errors != \u001b[33m\"\u001b[39m\u001b[33mignore\u001b[39m\u001b[33m\"\u001b[39m:\n\u001b[32m-> \u001b[39m\u001b[32m7070\u001b[39m         \u001b[38;5;28;01mraise\u001b[39;00m \u001b[38;5;167;01mKeyError\u001b[39;00m(\u001b[33mf\u001b[39m\u001b[33m\"\u001b[39m\u001b[38;5;132;01m{\u001b[39;00mlabels[mask].tolist()\u001b[38;5;132;01m}\u001b[39;00m\u001b[33m not found in axis\u001b[39m\u001b[33m\"\u001b[39m)\n\u001b[32m   7071\u001b[39m     indexer = indexer[~mask]\n\u001b[32m   7072\u001b[39m \u001b[38;5;28;01mreturn\u001b[39;00m \u001b[38;5;28mself\u001b[39m.delete(indexer)\n",
      "\u001b[31mKeyError\u001b[39m: \"['DATE_DIED'] not found in axis\""
     ]
    }
   ],
   "source": [
    "df.drop(labels='DATE_DIED', inplace=True, axis=1)\n",
    "df"
   ]
  },
  {
   "cell_type": "code",
   "execution_count": null,
   "metadata": {},
   "outputs": [
    {
     "name": "stdout",
     "output_type": "stream",
     "text": [
      "        USMER  MEDICAL_UNIT   SEX PATIENT_TYPE INTUBED PNEUMONIA  AGE  \\\n",
      "0        None             1  None         None    None      None   65   \n",
      "2        None             1  None         None    None      None   55   \n",
      "4        None             1  None         None    None      None   68   \n",
      "5        None             1  None         None    None      None   40   \n",
      "6        None             1  None         None    None      None   64   \n",
      "...       ...           ...   ...          ...     ...       ...  ...   \n",
      "1047932  None            13  None         None    None      None   67   \n",
      "1047933  None            13  None         None    None      None   77   \n",
      "1047935  None            13  None         None    None      None   70   \n",
      "1047936  None            13  None         None    None      None   32   \n",
      "1047937  None            13  None         None    None      None   30   \n",
      "\n",
      "        PREGNANT DIABETES  COPD  ... INMSUPR HIPERTENSION OTHER_DISEASE  \\\n",
      "0           None     None  None  ...    None         None          None   \n",
      "2           None     None  None  ...    None         None          None   \n",
      "4           None     None  None  ...    None         None          None   \n",
      "5           None     None  None  ...    None         None          None   \n",
      "6           None     None  None  ...    None         None          None   \n",
      "...          ...      ...   ...  ...     ...          ...           ...   \n",
      "1047932     None     None  None  ...    None         None          None   \n",
      "1047933     None     None  None  ...    None         None          None   \n",
      "1047935     None     None  None  ...    None         None          None   \n",
      "1047936     None     None  None  ...    None         None          None   \n",
      "1047937     None     None  None  ...    None         None          None   \n",
      "\n",
      "        CARDIOVASCULAR OBESITY RENAL_CHRONIC TOBACCO CLASSIFICATION_FINAL  \\\n",
      "0                 None    None          None    None                    3   \n",
      "2                 None    None          None    None                    3   \n",
      "4                 None    None          None    None                    3   \n",
      "5                 None    None          None    None                    3   \n",
      "6                 None    None          None    None                    3   \n",
      "...                ...     ...           ...     ...                  ...   \n",
      "1047932           None    None          None    None                    3   \n",
      "1047933           None    None          None    None                    3   \n",
      "1047935           None    None          None    None                    3   \n",
      "1047936           None    None          None    None                    3   \n",
      "1047937           None    None          None    None                    3   \n",
      "\n",
      "          ICU DEATH  \n",
      "0        None  None  \n",
      "2        None  None  \n",
      "4        None  None  \n",
      "5        None  None  \n",
      "6        None  None  \n",
      "...       ...   ...  \n",
      "1047932  None  None  \n",
      "1047933  None  None  \n",
      "1047935  None  None  \n",
      "1047936  None  None  \n",
      "1047937  None  None  \n",
      "\n",
      "[108466 rows x 21 columns]\n"
     ]
    }
   ],
   "source": []
  },
  {
   "cell_type": "code",
   "execution_count": null,
   "metadata": {},
   "outputs": [],
   "source": []
  }
 ],
 "metadata": {
  "kernelspec": {
   "display_name": ".venv",
   "language": "python",
   "name": "python3"
  },
  "language_info": {
   "codemirror_mode": {
    "name": "ipython",
    "version": 3
   },
   "file_extension": ".py",
   "mimetype": "text/x-python",
   "name": "python",
   "nbconvert_exporter": "python",
   "pygments_lexer": "ipython3",
   "version": "3.12.6"
  }
 },
 "nbformat": 4,
 "nbformat_minor": 2
}
