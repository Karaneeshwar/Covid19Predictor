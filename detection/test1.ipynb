{
 "cells": [
  {
   "cell_type": "code",
   "execution_count": 2,
   "metadata": {},
   "outputs": [],
   "source": [
    "import numpy as np\n",
    "import pickle as pkl\n",
    "from tensorflow.keras.applications import ResNet50\n",
    "from tensorflow.keras.applications.resnet50 import preprocess_input\n",
    "from tensorflow.keras.preprocessing.image import img_to_array\n",
    "from PIL import Image"
   ]
  },
  {
   "cell_type": "code",
   "execution_count": 3,
   "metadata": {},
   "outputs": [],
   "source": [
    "base_model = ResNet50(weights='imagenet', include_top=False, pooling='avg')  # Global average pooling\n",
    "\n",
    "# Function to Extract Features\n",
    "def extract_features(image_path):\n",
    "    img = Image.open(image_path).convert('RGB')  # Resize image\n",
    "    img_array = img_to_array(img)  # Convert to array\n",
    "    img_array = preprocess_input(img_array)  # Preprocess for ResNet\n",
    "    img_array = np.expand_dims(img_array, axis=0)  # Add batch dimension\n",
    "    features = base_model.predict(img_array)  # Extract features\n",
    "    return features.flatten()  # Flatten to 1D array"
   ]
  },
  {
   "cell_type": "code",
   "execution_count": null,
   "metadata": {},
   "outputs": [
    {
     "name": "stdout",
     "output_type": "stream",
     "text": [
      "\u001b[1m1/1\u001b[0m \u001b[32m━━━━━━━━━━━━━━━━━━━━\u001b[0m\u001b[37m\u001b[0m \u001b[1m0s\u001b[0m 451ms/step\n"
     ]
    },
    {
     "data": {
      "text/plain": [
       "array([0.922348  , 1.4746003 , 0.15434657, ..., 0.19569248, 0.38180465,\n",
       "       0.        ], dtype=float32)"
      ]
     },
     "execution_count": 28,
     "metadata": {},
     "output_type": "execute_result"
    }
   ],
   "source": [
    "feature = extract_features(r'F:\\Sem 6\\DSA\\Lab\\Covid19Predictor\\dataset\\New_Data_CoV2\\Covid\\Patient (18)\\AnotaGÇí+¦o 2020-04-29 203340.png')\n",
    "feature"
   ]
  },
  {
   "cell_type": "code",
   "execution_count": 14,
   "metadata": {},
   "outputs": [],
   "source": [
    "scaler = pkl.load(open('model/scaler.pkl', 'rb'))\n",
    "rf = pkl.load(open('model/randomForest.pkl','rb'))"
   ]
  },
  {
   "cell_type": "code",
   "execution_count": 31,
   "metadata": {},
   "outputs": [
    {
     "data": {
      "text/plain": [
       "'normal'"
      ]
     },
     "execution_count": 31,
     "metadata": {},
     "output_type": "execute_result"
    }
   ],
   "source": [
    "f = scaler.transform([feature])\n",
    "y = rf.predict(f)\n",
    "y[0]"
   ]
  }
 ],
 "metadata": {
  "kernelspec": {
   "display_name": ".venv",
   "language": "python",
   "name": "python3"
  },
  "language_info": {
   "codemirror_mode": {
    "name": "ipython",
    "version": 3
   },
   "file_extension": ".py",
   "mimetype": "text/x-python",
   "name": "python",
   "nbconvert_exporter": "python",
   "pygments_lexer": "ipython3",
   "version": "3.12.6"
  }
 },
 "nbformat": 4,
 "nbformat_minor": 2
}
